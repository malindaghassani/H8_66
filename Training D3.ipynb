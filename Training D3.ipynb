{
 "cells": [
  {
   "cell_type": "markdown",
   "id": "f4f26f33",
   "metadata": {},
   "source": [
    "# PYTHON FUNCTION"
   ]
  },
  {
   "cell_type": "code",
   "execution_count": 5,
   "id": "020903af",
   "metadata": {},
   "outputs": [],
   "source": [
    "# def \"nama_dari_function\"(parameter) : \n",
    "## (statement)"
   ]
  },
  {
   "cell_type": "code",
   "execution_count": 14,
   "id": "6bcdda18",
   "metadata": {},
   "outputs": [],
   "source": [
    "def nama_dari_function(parameter):\n",
    "    \"mulai dari disini\"\n",
    "    print (\"functionnya sudah oke\")"
   ]
  },
  {
   "cell_type": "code",
   "execution_count": 13,
   "id": "07f27d0d",
   "metadata": {},
   "outputs": [
    {
     "data": {
      "text/plain": [
       "<function __main__.nama_dari_function(parameter)>"
      ]
     },
     "execution_count": 13,
     "metadata": {},
     "output_type": "execute_result"
    }
   ],
   "source": [
    "nama_dari_function"
   ]
  },
  {
   "cell_type": "code",
   "execution_count": 21,
   "id": "52c62ac7",
   "metadata": {},
   "outputs": [],
   "source": [
    "def my_function (p,l):\n",
    "    \"Function untuk menghitung luas\"\n",
    "    print(p*l)\n",
    "    print (p**2)\n",
    "    print (l**3)"
   ]
  },
  {
   "cell_type": "code",
   "execution_count": 22,
   "id": "9a9411d8",
   "metadata": {},
   "outputs": [
    {
     "name": "stdout",
     "output_type": "stream",
     "text": [
      "8\n",
      "4\n",
      "64\n"
     ]
    }
   ],
   "source": [
    "my_function(2,4)"
   ]
  },
  {
   "cell_type": "code",
   "execution_count": 24,
   "id": "c8c80266",
   "metadata": {},
   "outputs": [],
   "source": [
    "def printme (str):\n",
    "    \"This prints a passed string into this function\"\n",
    "    print (str)\n",
    "    return "
   ]
  },
  {
   "cell_type": "code",
   "execution_count": 27,
   "id": "485b285d",
   "metadata": {},
   "outputs": [
    {
     "name": "stdout",
     "output_type": "stream",
     "text": [
      "ini yang aku print\n"
     ]
    }
   ],
   "source": [
    "printme (\"ini yang aku print\")"
   ]
  },
  {
   "cell_type": "markdown",
   "id": "a312da5c",
   "metadata": {},
   "source": [
    "# Calling a Function"
   ]
  },
  {
   "cell_type": "code",
   "execution_count": 28,
   "id": "2742cf28",
   "metadata": {},
   "outputs": [
    {
     "name": "stdout",
     "output_type": "stream",
     "text": [
      "I'm first call to user defined function!\n",
      "again second call to the same funcion\n"
     ]
    }
   ],
   "source": [
    "def printme (str):\n",
    "    \"This prints a passed string into this function\"\n",
    "    print (str)\n",
    "    return;\n",
    "printme (\"I'm first call to user defined function!\")\n",
    "printme (\"again second call to the same funcion\")"
   ]
  },
  {
   "cell_type": "markdown",
   "id": "42c51624",
   "metadata": {},
   "source": [
    "# Pass by references vs Value"
   ]
  },
  {
   "cell_type": "code",
   "execution_count": 57,
   "id": "445e597a",
   "metadata": {},
   "outputs": [],
   "source": [
    "def changeme (mylist):\n",
    "    \"This changes a passed list into this function\"\n",
    "    \n",
    "    #mylist=[]\n",
    "    \n",
    "    \n",
    "    mylist.append([1,2,3,4]);\n",
    "    print(\"value inside the function:\",mylist)\n",
    "    return\n",
    "\n",
    "## mylist.append = menambahkan (add) list baru di depan\n",
    "## tidak di define parameternya (mylist = mylist)"
   ]
  },
  {
   "cell_type": "code",
   "execution_count": 58,
   "id": "8f7efa39",
   "metadata": {},
   "outputs": [
    {
     "name": "stdout",
     "output_type": "stream",
     "text": [
      "value inside the function: [10, 20, 30, [1, 2, 3, 4]]\n",
      "value outside the function: [10, 20, 30, [1, 2, 3, 4]]\n"
     ]
    }
   ],
   "source": [
    "mylist =[10,20,30];\n",
    "changeme (mylist);\n",
    "print(\"value outside the function:\",mylist)"
   ]
  },
  {
   "cell_type": "code",
   "execution_count": 53,
   "id": "43741622",
   "metadata": {},
   "outputs": [
    {
     "name": "stdout",
     "output_type": "stream",
     "text": [
      "value inside the function: [1, 2, 3, 4]\n",
      "value outside the function: [10, 20, 30]\n"
     ]
    }
   ],
   "source": [
    "# definiskan terlebih dahulu parameternya\n",
    "\n",
    "def changeme (mylist):\n",
    "    \"This changes a passed list into this function\"\n",
    "    mylist = [1,2,3,4];\n",
    "    # mylist.append([100,200,300,400]);\n",
    "    print(\"value inside the function:\",mylist)\n",
    "    return\n",
    "\n",
    "mylist = [10,20,30];\n",
    "changeme (mylist);\n",
    "print(\"value outside the function:\",mylist)"
   ]
  },
  {
   "cell_type": "code",
   "execution_count": 54,
   "id": "dd11a754",
   "metadata": {},
   "outputs": [
    {
     "data": {
      "text/plain": [
       "[10, 20, 30, 1, 2, 3, 4]"
      ]
     },
     "execution_count": 54,
     "metadata": {},
     "output_type": "execute_result"
    }
   ],
   "source": [
    "mylist = [10,20,30]\n",
    "mylist.extend([1,2,3,4])\n",
    "mylist"
   ]
  },
  {
   "cell_type": "markdown",
   "id": "b3f15ae6",
   "metadata": {},
   "source": [
    "# Variable-length argument"
   ]
  },
  {
   "cell_type": "markdown",
   "id": "83fdcacc",
   "metadata": {},
   "source": [
    "def functionname([formal_args,]*var_arg_tuple):\n",
    "    \"function_docstring\"\n",
    "    function_suite\n",
    "    return [expression]"
   ]
  },
  {
   "cell_type": "code",
   "execution_count": 73,
   "id": "6f559be8",
   "metadata": {},
   "outputs": [
    {
     "name": "stdout",
     "output_type": "stream",
     "text": [
      "Output is:\n",
      "10\n",
      "the tuple are\n",
      "Output is:\n",
      "70\n",
      "the tuple are\n",
      "60\n",
      "50\n",
      "a\n"
     ]
    }
   ],
   "source": [
    "def printinfo(arg1,*vartuple):\n",
    "    \"This prints a variable passed arguments\"\n",
    "    print('Output is:')\n",
    "    print(arg1)\n",
    "    \n",
    "    print('the tuple are')\n",
    "    \n",
    "    for var in vartuple:\n",
    "        print(var)\n",
    "    return;\n",
    "\n",
    "printinfo(10)\n",
    "printinfo(70,60,50,'a')"
   ]
  },
  {
   "cell_type": "markdown",
   "id": "bef1ffda",
   "metadata": {},
   "source": [
    "# Required argunment"
   ]
  },
  {
   "cell_type": "code",
   "execution_count": 84,
   "id": "29671256",
   "metadata": {},
   "outputs": [
    {
     "ename": "SyntaxError",
     "evalue": "invalid syntax (<ipython-input-84-eac02d2744d1>, line 6)",
     "output_type": "error",
     "traceback": [
      "\u001b[1;36m  File \u001b[1;32m\"<ipython-input-84-eac02d2744d1>\"\u001b[1;36m, line \u001b[1;32m6\u001b[0m\n\u001b[1;33m    print me()\u001b[0m\n\u001b[1;37m          ^\u001b[0m\n\u001b[1;31mSyntaxError\u001b[0m\u001b[1;31m:\u001b[0m invalid syntax\n"
     ]
    }
   ],
   "source": [
    "def printme(str):\n",
    "    \"This prints a passed a string into this function\"\n",
    "    print (str)\n",
    "    return;\n",
    "\n",
    "print me()"
   ]
  },
  {
   "cell_type": "code",
   "execution_count": 91,
   "id": "c84e5f36",
   "metadata": {},
   "outputs": [
    {
     "name": "stdout",
     "output_type": "stream",
     "text": [
      "Hactive 1 2\n"
     ]
    }
   ],
   "source": [
    "def printme(str,arg2,arg3):\n",
    "    print (str,arg2,arg3)\n",
    "    return\n",
    "printme(str='Hactive',arg2=1,arg3=2)"
   ]
  },
  {
   "cell_type": "code",
   "execution_count": 94,
   "id": "56d03536",
   "metadata": {},
   "outputs": [
    {
     "name": "stdout",
     "output_type": "stream",
     "text": [
      "Name: Hacktiv8\n",
      "Age: 4\n",
      "Name: Hactiv8\n",
      "Age: 4\n"
     ]
    }
   ],
   "source": [
    "def printinfo(name,age):\n",
    "    \"This prints a passed info this function\"\n",
    "    print (\"Name:\", name);\n",
    "    print(\"Age:\",age)\n",
    "    return\n",
    "\n",
    "printinfo(age=4,name=\"Hacktiv8\")\n",
    "printinfo(\"Hactiv8\",4)\n"
   ]
  },
  {
   "cell_type": "markdown",
   "id": "b940aba6",
   "metadata": {},
   "source": [
    "# Default arguments"
   ]
  },
  {
   "cell_type": "code",
   "execution_count": 97,
   "id": "2265c820",
   "metadata": {},
   "outputs": [
    {
     "name": "stdout",
     "output_type": "stream",
     "text": [
      "Name: Hactiv8\n",
      "Age: 26\n",
      "Name: Hactiv8\n",
      "Age: 50\n"
     ]
    }
   ],
   "source": [
    "def printinfo(name,age=26):\n",
    "    print (\"Name:\", name)\n",
    "    print(\"Age:\",age)\n",
    "    return\n",
    "\n",
    "printinfo(\"Hactiv8\")\n",
    "printinfo(\"Hactiv8\",50)"
   ]
  },
  {
   "cell_type": "markdown",
   "id": "8a28a2cf",
   "metadata": {},
   "source": [
    "# The Anonymous Function"
   ]
  },
  {
   "cell_type": "code",
   "execution_count": 82,
   "id": "93061fa5",
   "metadata": {},
   "outputs": [],
   "source": [
    "# function ini disebut anonymous karena tidak di deklarasikan dengan cara sandar dengan menggunakan keyword def"
   ]
  },
  {
   "cell_type": "code",
   "execution_count": 83,
   "id": "281f4313",
   "metadata": {},
   "outputs": [],
   "source": [
    "# lamda[arg1[,arg2,....arg]]:expression"
   ]
  },
  {
   "cell_type": "code",
   "execution_count": 106,
   "id": "59feb98b",
   "metadata": {},
   "outputs": [
    {
     "name": "stdout",
     "output_type": "stream",
     "text": [
      "Value of total: 30\n"
     ]
    }
   ],
   "source": [
    "sum = lambda arg1,arg2: arg1+arg2;\n",
    "\n",
    "print(\"Value of total:\",sum(10,20))\n",
    "\n",
    "#atau bisa ditulis"
   ]
  },
  {
   "cell_type": "code",
   "execution_count": 109,
   "id": "c934c137",
   "metadata": {},
   "outputs": [
    {
     "name": "stdout",
     "output_type": "stream",
     "text": [
      "Value of total: None\n"
     ]
    }
   ],
   "source": [
    "def sum (arg1,arg2):\n",
    "    #return \n",
    "    arg1 + arg2\n",
    "\n",
    "print(\"Value of total:\",sum(20,20))"
   ]
  },
  {
   "cell_type": "markdown",
   "id": "8cf34290",
   "metadata": {},
   "source": [
    "# Return Statement"
   ]
  },
  {
   "cell_type": "code",
   "execution_count": 110,
   "id": "368ec5e7",
   "metadata": {},
   "outputs": [
    {
     "name": "stdout",
     "output_type": "stream",
     "text": [
      "Inside the function: 30\n",
      "Oustside the function: 40\n"
     ]
    }
   ],
   "source": [
    "def sum (arg1,arg2):\n",
    "    total = arg1+arg2\n",
    "    total2 = total+arg1\n",
    "    print(\"Inside the function:\",total)\n",
    "    return total2\n",
    "\n",
    "total = sum(10,20)\n",
    "print('Oustside the function:',total)"
   ]
  },
  {
   "cell_type": "markdown",
   "id": "830021e5",
   "metadata": {},
   "source": [
    "# Scope Variable: Global of Variables vs Local Variable"
   ]
  },
  {
   "cell_type": "code",
   "execution_count": null,
   "id": "7036d760",
   "metadata": {},
   "outputs": [],
   "source": [
    "#didalam rumus adalah local\n",
    "#diluar rumus adalah global"
   ]
  },
  {
   "cell_type": "code",
   "execution_count": 113,
   "id": "5b0aa1c0",
   "metadata": {},
   "outputs": [
    {
     "name": "stdout",
     "output_type": "stream",
     "text": [
      "inside the function local total: 30\n",
      "outside the function global total: 0\n"
     ]
    }
   ],
   "source": [
    "total = 0;\n",
    "def sum(arg1,arg2):\n",
    "    total = arg1+arg2;\n",
    "    print('inside the function local total:',total)\n",
    "    return total;\n",
    "\n",
    "#def min():\n",
    "\n",
    "sum(10,20);\n",
    "print('outside the function global total:',total)"
   ]
  },
  {
   "cell_type": "code",
   "execution_count": 118,
   "id": "8b1a8c7f",
   "metadata": {},
   "outputs": [
    {
     "data": {
      "text/plain": [
       "50"
      ]
     },
     "execution_count": 118,
     "metadata": {},
     "output_type": "execute_result"
    }
   ],
   "source": [
    "jumlahKucing =20\n",
    "def jumlahHewan():\n",
    "    jumlahAnjing=30\n",
    "    return jumlahKucing + jumlahAnjing\n",
    "\n",
    "def jumlahKelinci():\n",
    "    return jumlahKucing + jumlahKucing\n",
    "\n",
    "jumlahHewan()"
   ]
  },
  {
   "cell_type": "code",
   "execution_count": 119,
   "id": "c1328ca7",
   "metadata": {},
   "outputs": [
    {
     "data": {
      "text/plain": [
       "40"
      ]
     },
     "execution_count": 119,
     "metadata": {},
     "output_type": "execute_result"
    }
   ],
   "source": [
    "jumlahKelinci()"
   ]
  },
  {
   "cell_type": "markdown",
   "id": "d65a2bee",
   "metadata": {},
   "source": [
    "##### Python modules dan packages\n",
    "###### keuntungan: simplicity, maintanability, reusability, scooping"
   ]
  },
  {
   "cell_type": "markdown",
   "id": "e2e8860c",
   "metadata": {},
   "source": [
    "# Python Modules"
   ]
  },
  {
   "cell_type": "code",
   "execution_count": null,
   "id": "f2467229",
   "metadata": {},
   "outputs": [],
   "source": [
    "s=\"Hactiv8-PTP Pyhton For Data Science\"\n",
    "a=[100,200,300]\n",
    "\n",
    "def foo (arg):\n",
    "    print(f'arg={arg}'')\n",
    "\n",
    "class Foo:\n",
    "          pass"
   ]
  },
  {
   "cell_type": "code",
   "execution_count": 125,
   "id": "d32731f6",
   "metadata": {},
   "outputs": [
    {
     "ename": "SyntaxError",
     "evalue": "EOL while scanning string literal (mod.py, line 5)",
     "output_type": "error",
     "traceback": [
      "Traceback \u001b[1;36m(most recent call last)\u001b[0m:\n",
      "  File \u001b[0;32m\"C:\\Users\\3271117\\Anaconda3\\lib\\site-packages\\IPython\\core\\interactiveshell.py\"\u001b[0m, line \u001b[0;32m3437\u001b[0m, in \u001b[0;35mrun_code\u001b[0m\n    exec(code_obj, self.user_global_ns, self.user_ns)\n",
      "\u001b[1;36m  File \u001b[1;32m\"<ipython-input-125-18de99490651>\"\u001b[1;36m, line \u001b[1;32m1\u001b[1;36m, in \u001b[1;35m<module>\u001b[1;36m\u001b[0m\n\u001b[1;33m    import mod\u001b[0m\n",
      "\u001b[1;36m  File \u001b[1;32m\"C:\\Users\\3271117\\Desktop\\TRAINING PYTHON\\mod.py\"\u001b[1;36m, line \u001b[1;32m5\u001b[0m\n\u001b[1;33m    print(f'arg={arg}'')\u001b[0m\n\u001b[1;37m                        ^\u001b[0m\n\u001b[1;31mSyntaxError\u001b[0m\u001b[1;31m:\u001b[0m EOL while scanning string literal\n"
     ]
    }
   ],
   "source": [
    "import mod"
   ]
  },
  {
   "cell_type": "code",
   "execution_count": 126,
   "id": "3d0ff89a",
   "metadata": {},
   "outputs": [
    {
     "ename": "NameError",
     "evalue": "name 'mod' is not defined",
     "output_type": "error",
     "traceback": [
      "\u001b[1;31m---------------------------------------------------------------------------\u001b[0m",
      "\u001b[1;31mNameError\u001b[0m                                 Traceback (most recent call last)",
      "\u001b[1;32m<ipython-input-126-35e23e581264>\u001b[0m in \u001b[0;36m<module>\u001b[1;34m\u001b[0m\n\u001b[1;32m----> 1\u001b[1;33m \u001b[0mmod\u001b[0m\u001b[1;33m\u001b[0m\u001b[1;33m\u001b[0m\u001b[0m\n\u001b[0m",
      "\u001b[1;31mNameError\u001b[0m: name 'mod' is not defined"
     ]
    }
   ],
   "source": [
    "mod"
   ]
  },
  {
   "cell_type": "markdown",
   "id": "2cd01d91",
   "metadata": {},
   "source": [
    "# The module search path"
   ]
  },
  {
   "cell_type": "code",
   "execution_count": 127,
   "id": "028b88cf",
   "metadata": {},
   "outputs": [
    {
     "ename": "SyntaxError",
     "evalue": "EOL while scanning string literal (mod.py, line 5)",
     "output_type": "error",
     "traceback": [
      "Traceback \u001b[1;36m(most recent call last)\u001b[0m:\n",
      "  File \u001b[0;32m\"C:\\Users\\3271117\\Anaconda3\\lib\\site-packages\\IPython\\core\\interactiveshell.py\"\u001b[0m, line \u001b[0;32m3437\u001b[0m, in \u001b[0;35mrun_code\u001b[0m\n    exec(code_obj, self.user_global_ns, self.user_ns)\n",
      "\u001b[1;36m  File \u001b[1;32m\"<ipython-input-127-18de99490651>\"\u001b[1;36m, line \u001b[1;32m1\u001b[1;36m, in \u001b[1;35m<module>\u001b[1;36m\u001b[0m\n\u001b[1;33m    import mod\u001b[0m\n",
      "\u001b[1;36m  File \u001b[1;32m\"C:\\Users\\3271117\\Desktop\\TRAINING PYTHON\\mod.py\"\u001b[1;36m, line \u001b[1;32m5\u001b[0m\n\u001b[1;33m    print(f'arg={arg}'')\u001b[0m\n\u001b[1;37m                        ^\u001b[0m\n\u001b[1;31mSyntaxError\u001b[0m\u001b[1;31m:\u001b[0m EOL while scanning string literal\n"
     ]
    }
   ],
   "source": [
    "import mod\n"
   ]
  },
  {
   "cell_type": "markdown",
   "id": "49870d8f",
   "metadata": {},
   "source": [
    "# Dir() Function"
   ]
  },
  {
   "cell_type": "code",
   "execution_count": 131,
   "id": "c738d128",
   "metadata": {},
   "outputs": [
    {
     "data": {
      "text/plain": [
       "['In',\n",
       " 'Out',\n",
       " '_',\n",
       " '_11',\n",
       " '_114',\n",
       " '_115',\n",
       " '_116',\n",
       " '_117',\n",
       " '_118',\n",
       " '_119',\n",
       " '_13',\n",
       " '_23',\n",
       " '_44',\n",
       " '_54',\n",
       " '_7',\n",
       " '_9',\n",
       " '__',\n",
       " '___',\n",
       " '__builtin__',\n",
       " '__builtins__',\n",
       " '__doc__',\n",
       " '__loader__',\n",
       " '__name__',\n",
       " '__package__',\n",
       " '__spec__',\n",
       " '_dh',\n",
       " '_i',\n",
       " '_i1',\n",
       " '_i10',\n",
       " '_i100',\n",
       " '_i101',\n",
       " '_i102',\n",
       " '_i103',\n",
       " '_i104',\n",
       " '_i105',\n",
       " '_i106',\n",
       " '_i107',\n",
       " '_i108',\n",
       " '_i109',\n",
       " '_i11',\n",
       " '_i110',\n",
       " '_i111',\n",
       " '_i112',\n",
       " '_i113',\n",
       " '_i114',\n",
       " '_i115',\n",
       " '_i116',\n",
       " '_i117',\n",
       " '_i118',\n",
       " '_i119',\n",
       " '_i12',\n",
       " '_i120',\n",
       " '_i121',\n",
       " '_i122',\n",
       " '_i123',\n",
       " '_i124',\n",
       " '_i125',\n",
       " '_i126',\n",
       " '_i127',\n",
       " '_i128',\n",
       " '_i129',\n",
       " '_i13',\n",
       " '_i130',\n",
       " '_i131',\n",
       " '_i14',\n",
       " '_i15',\n",
       " '_i16',\n",
       " '_i17',\n",
       " '_i18',\n",
       " '_i19',\n",
       " '_i2',\n",
       " '_i20',\n",
       " '_i21',\n",
       " '_i22',\n",
       " '_i23',\n",
       " '_i24',\n",
       " '_i25',\n",
       " '_i26',\n",
       " '_i27',\n",
       " '_i28',\n",
       " '_i29',\n",
       " '_i3',\n",
       " '_i30',\n",
       " '_i31',\n",
       " '_i32',\n",
       " '_i33',\n",
       " '_i34',\n",
       " '_i35',\n",
       " '_i36',\n",
       " '_i37',\n",
       " '_i38',\n",
       " '_i39',\n",
       " '_i4',\n",
       " '_i40',\n",
       " '_i41',\n",
       " '_i42',\n",
       " '_i43',\n",
       " '_i44',\n",
       " '_i45',\n",
       " '_i46',\n",
       " '_i47',\n",
       " '_i48',\n",
       " '_i49',\n",
       " '_i5',\n",
       " '_i50',\n",
       " '_i51',\n",
       " '_i52',\n",
       " '_i53',\n",
       " '_i54',\n",
       " '_i55',\n",
       " '_i56',\n",
       " '_i57',\n",
       " '_i58',\n",
       " '_i59',\n",
       " '_i6',\n",
       " '_i60',\n",
       " '_i61',\n",
       " '_i62',\n",
       " '_i63',\n",
       " '_i64',\n",
       " '_i65',\n",
       " '_i66',\n",
       " '_i67',\n",
       " '_i68',\n",
       " '_i69',\n",
       " '_i7',\n",
       " '_i70',\n",
       " '_i71',\n",
       " '_i72',\n",
       " '_i73',\n",
       " '_i74',\n",
       " '_i75',\n",
       " '_i76',\n",
       " '_i77',\n",
       " '_i78',\n",
       " '_i79',\n",
       " '_i8',\n",
       " '_i80',\n",
       " '_i81',\n",
       " '_i82',\n",
       " '_i83',\n",
       " '_i84',\n",
       " '_i85',\n",
       " '_i86',\n",
       " '_i87',\n",
       " '_i88',\n",
       " '_i89',\n",
       " '_i9',\n",
       " '_i90',\n",
       " '_i91',\n",
       " '_i92',\n",
       " '_i93',\n",
       " '_i94',\n",
       " '_i95',\n",
       " '_i96',\n",
       " '_i97',\n",
       " '_i98',\n",
       " '_i99',\n",
       " '_ih',\n",
       " '_ii',\n",
       " '_iii',\n",
       " '_oh',\n",
       " 'changeme',\n",
       " 'exit',\n",
       " 'get_ipython',\n",
       " 'jumlahHewan',\n",
       " 'jumlahKelinci',\n",
       " 'jumlahKucing',\n",
       " 'my_function',\n",
       " 'mylist',\n",
       " 'nama_dari_function',\n",
       " 'nama_function',\n",
       " 'printinfo',\n",
       " 'printme',\n",
       " 'quit',\n",
       " 'sum',\n",
       " 'total']"
      ]
     },
     "execution_count": 131,
     "metadata": {},
     "output_type": "execute_result"
    }
   ],
   "source": [
    "dir()"
   ]
  },
  {
   "cell_type": "code",
   "execution_count": 133,
   "id": "3235c8e7",
   "metadata": {},
   "outputs": [],
   "source": [
    "qux = [1,2,3,4,5]"
   ]
  },
  {
   "cell_type": "code",
   "execution_count": 134,
   "id": "049be13f",
   "metadata": {},
   "outputs": [
    {
     "data": {
      "text/plain": [
       "['In',\n",
       " 'Out',\n",
       " '_',\n",
       " '_11',\n",
       " '_114',\n",
       " '_115',\n",
       " '_116',\n",
       " '_117',\n",
       " '_118',\n",
       " '_119',\n",
       " '_13',\n",
       " '_131',\n",
       " '_132',\n",
       " '_23',\n",
       " '_44',\n",
       " '_54',\n",
       " '_7',\n",
       " '_9',\n",
       " '__',\n",
       " '___',\n",
       " '__builtin__',\n",
       " '__builtins__',\n",
       " '__doc__',\n",
       " '__loader__',\n",
       " '__name__',\n",
       " '__package__',\n",
       " '__spec__',\n",
       " '_dh',\n",
       " '_i',\n",
       " '_i1',\n",
       " '_i10',\n",
       " '_i100',\n",
       " '_i101',\n",
       " '_i102',\n",
       " '_i103',\n",
       " '_i104',\n",
       " '_i105',\n",
       " '_i106',\n",
       " '_i107',\n",
       " '_i108',\n",
       " '_i109',\n",
       " '_i11',\n",
       " '_i110',\n",
       " '_i111',\n",
       " '_i112',\n",
       " '_i113',\n",
       " '_i114',\n",
       " '_i115',\n",
       " '_i116',\n",
       " '_i117',\n",
       " '_i118',\n",
       " '_i119',\n",
       " '_i12',\n",
       " '_i120',\n",
       " '_i121',\n",
       " '_i122',\n",
       " '_i123',\n",
       " '_i124',\n",
       " '_i125',\n",
       " '_i126',\n",
       " '_i127',\n",
       " '_i128',\n",
       " '_i129',\n",
       " '_i13',\n",
       " '_i130',\n",
       " '_i131',\n",
       " '_i132',\n",
       " '_i133',\n",
       " '_i134',\n",
       " '_i14',\n",
       " '_i15',\n",
       " '_i16',\n",
       " '_i17',\n",
       " '_i18',\n",
       " '_i19',\n",
       " '_i2',\n",
       " '_i20',\n",
       " '_i21',\n",
       " '_i22',\n",
       " '_i23',\n",
       " '_i24',\n",
       " '_i25',\n",
       " '_i26',\n",
       " '_i27',\n",
       " '_i28',\n",
       " '_i29',\n",
       " '_i3',\n",
       " '_i30',\n",
       " '_i31',\n",
       " '_i32',\n",
       " '_i33',\n",
       " '_i34',\n",
       " '_i35',\n",
       " '_i36',\n",
       " '_i37',\n",
       " '_i38',\n",
       " '_i39',\n",
       " '_i4',\n",
       " '_i40',\n",
       " '_i41',\n",
       " '_i42',\n",
       " '_i43',\n",
       " '_i44',\n",
       " '_i45',\n",
       " '_i46',\n",
       " '_i47',\n",
       " '_i48',\n",
       " '_i49',\n",
       " '_i5',\n",
       " '_i50',\n",
       " '_i51',\n",
       " '_i52',\n",
       " '_i53',\n",
       " '_i54',\n",
       " '_i55',\n",
       " '_i56',\n",
       " '_i57',\n",
       " '_i58',\n",
       " '_i59',\n",
       " '_i6',\n",
       " '_i60',\n",
       " '_i61',\n",
       " '_i62',\n",
       " '_i63',\n",
       " '_i64',\n",
       " '_i65',\n",
       " '_i66',\n",
       " '_i67',\n",
       " '_i68',\n",
       " '_i69',\n",
       " '_i7',\n",
       " '_i70',\n",
       " '_i71',\n",
       " '_i72',\n",
       " '_i73',\n",
       " '_i74',\n",
       " '_i75',\n",
       " '_i76',\n",
       " '_i77',\n",
       " '_i78',\n",
       " '_i79',\n",
       " '_i8',\n",
       " '_i80',\n",
       " '_i81',\n",
       " '_i82',\n",
       " '_i83',\n",
       " '_i84',\n",
       " '_i85',\n",
       " '_i86',\n",
       " '_i87',\n",
       " '_i88',\n",
       " '_i89',\n",
       " '_i9',\n",
       " '_i90',\n",
       " '_i91',\n",
       " '_i92',\n",
       " '_i93',\n",
       " '_i94',\n",
       " '_i95',\n",
       " '_i96',\n",
       " '_i97',\n",
       " '_i98',\n",
       " '_i99',\n",
       " '_ih',\n",
       " '_ii',\n",
       " '_iii',\n",
       " '_oh',\n",
       " 'changeme',\n",
       " 'exit',\n",
       " 'get_ipython',\n",
       " 'jumlahHewan',\n",
       " 'jumlahKelinci',\n",
       " 'jumlahKucing',\n",
       " 'my_function',\n",
       " 'mylist',\n",
       " 'nama_dari_function',\n",
       " 'nama_function',\n",
       " 'printinfo',\n",
       " 'printme',\n",
       " 'quit',\n",
       " 'qux',\n",
       " 'sum',\n",
       " 'total']"
      ]
     },
     "execution_count": 134,
     "metadata": {},
     "output_type": "execute_result"
    }
   ],
   "source": [
    "dir()"
   ]
  },
  {
   "cell_type": "code",
   "execution_count": 135,
   "id": "efd5e0e9",
   "metadata": {},
   "outputs": [
    {
     "ename": "SyntaxError",
     "evalue": "EOL while scanning string literal (mod.py, line 5)",
     "output_type": "error",
     "traceback": [
      "Traceback \u001b[1;36m(most recent call last)\u001b[0m:\n",
      "  File \u001b[0;32m\"C:\\Users\\3271117\\Anaconda3\\lib\\site-packages\\IPython\\core\\interactiveshell.py\"\u001b[0m, line \u001b[0;32m3437\u001b[0m, in \u001b[0;35mrun_code\u001b[0m\n    exec(code_obj, self.user_global_ns, self.user_ns)\n",
      "\u001b[1;36m  File \u001b[1;32m\"<ipython-input-135-18de99490651>\"\u001b[1;36m, line \u001b[1;32m1\u001b[1;36m, in \u001b[1;35m<module>\u001b[1;36m\u001b[0m\n\u001b[1;33m    import mod\u001b[0m\n",
      "\u001b[1;36m  File \u001b[1;32m\"C:\\Users\\3271117\\Desktop\\TRAINING PYTHON\\mod.py\"\u001b[1;36m, line \u001b[1;32m5\u001b[0m\n\u001b[1;33m    print(f'arg={arg}'')\u001b[0m\n\u001b[1;37m                        ^\u001b[0m\n\u001b[1;31mSyntaxError\u001b[0m\u001b[1;31m:\u001b[0m EOL while scanning string literal\n"
     ]
    }
   ],
   "source": [
    "import mod"
   ]
  },
  {
   "cell_type": "code",
   "execution_count": 136,
   "id": "0fdb33a3",
   "metadata": {},
   "outputs": [
    {
     "ename": "NameError",
     "evalue": "name 'mod' is not defined",
     "output_type": "error",
     "traceback": [
      "\u001b[1;31m---------------------------------------------------------------------------\u001b[0m",
      "\u001b[1;31mNameError\u001b[0m                                 Traceback (most recent call last)",
      "\u001b[1;32m<ipython-input-136-59cd388141c9>\u001b[0m in \u001b[0;36m<module>\u001b[1;34m\u001b[0m\n\u001b[1;32m----> 1\u001b[1;33m \u001b[0mdir\u001b[0m \u001b[1;33m(\u001b[0m\u001b[0mmod\u001b[0m\u001b[1;33m)\u001b[0m\u001b[1;33m\u001b[0m\u001b[1;33m\u001b[0m\u001b[0m\n\u001b[0m",
      "\u001b[1;31mNameError\u001b[0m: name 'mod' is not defined"
     ]
    }
   ],
   "source": [
    "dir (mod)"
   ]
  },
  {
   "cell_type": "code",
   "execution_count": null,
   "id": "dbfca570",
   "metadata": {},
   "outputs": [],
   "source": []
  },
  {
   "cell_type": "code",
   "execution_count": null,
   "id": "efae480a",
   "metadata": {},
   "outputs": [],
   "source": []
  },
  {
   "cell_type": "code",
   "execution_count": null,
   "id": "60a95dc3",
   "metadata": {},
   "outputs": [],
   "source": []
  },
  {
   "cell_type": "code",
   "execution_count": null,
   "id": "0fd803ba",
   "metadata": {},
   "outputs": [],
   "source": []
  },
  {
   "cell_type": "code",
   "execution_count": null,
   "id": "05ce315f",
   "metadata": {},
   "outputs": [],
   "source": []
  }
 ],
 "metadata": {
  "kernelspec": {
   "display_name": "Python 3",
   "language": "python",
   "name": "python3"
  },
  "language_info": {
   "codemirror_mode": {
    "name": "ipython",
    "version": 3
   },
   "file_extension": ".py",
   "mimetype": "text/x-python",
   "name": "python",
   "nbconvert_exporter": "python",
   "pygments_lexer": "ipython3",
   "version": "3.8.8"
  }
 },
 "nbformat": 4,
 "nbformat_minor": 5
}
