{
 "cells": [
  {
   "cell_type": "markdown",
   "id": "e4b3f302",
   "metadata": {},
   "source": [
    "# SESI 1"
   ]
  },
  {
   "cell_type": "markdown",
   "id": "7be6b43b",
   "metadata": {},
   "source": [
    "# Integer"
   ]
  },
  {
   "cell_type": "code",
   "execution_count": 15,
   "id": "79791ad6",
   "metadata": {},
   "outputs": [
    {
     "name": "stdout",
     "output_type": "stream",
     "text": [
      "123123123123124\n"
     ]
    }
   ],
   "source": [
    "print(123123123123123 + 1)"
   ]
  },
  {
   "cell_type": "code",
   "execution_count": 16,
   "id": "4b12ea89",
   "metadata": {},
   "outputs": [
    {
     "name": "stdout",
     "output_type": "stream",
     "text": [
      "<class 'int'>\n"
     ]
    }
   ],
   "source": [
    "print(type(10))"
   ]
  },
  {
   "cell_type": "code",
   "execution_count": 17,
   "id": "47a4f0dd",
   "metadata": {},
   "outputs": [
    {
     "name": "stdout",
     "output_type": "stream",
     "text": [
      "4.2\n"
     ]
    }
   ],
   "source": [
    "print(4.2)"
   ]
  },
  {
   "cell_type": "markdown",
   "id": "50d22e2d",
   "metadata": {},
   "source": [
    "# Float"
   ]
  },
  {
   "cell_type": "code",
   "execution_count": 18,
   "id": "5f753b25",
   "metadata": {},
   "outputs": [
    {
     "name": "stdout",
     "output_type": "stream",
     "text": [
      "<class 'float'>\n"
     ]
    }
   ],
   "source": [
    "print(type(4.2))"
   ]
  },
  {
   "cell_type": "code",
   "execution_count": 19,
   "id": "746b958a",
   "metadata": {},
   "outputs": [
    {
     "name": "stdout",
     "output_type": "stream",
     "text": [
      "4000000.0\n"
     ]
    }
   ],
   "source": [
    "print(.4e7)"
   ]
  },
  {
   "cell_type": "code",
   "execution_count": 20,
   "id": "ce304daf",
   "metadata": {},
   "outputs": [
    {
     "name": "stdout",
     "output_type": "stream",
     "text": [
      "<class 'float'>\n"
     ]
    }
   ],
   "source": [
    "print(type(.04e2))"
   ]
  },
  {
   "cell_type": "markdown",
   "id": "a18c9975",
   "metadata": {},
   "source": [
    "# String"
   ]
  },
  {
   "cell_type": "markdown",
   "id": "c6588ca7",
   "metadata": {},
   "source": [
    "kata-kata diapit tanda kutip (\"\")"
   ]
  },
  {
   "cell_type": "code",
   "execution_count": 22,
   "id": "9f03323d",
   "metadata": {},
   "outputs": [
    {
     "name": "stdout",
     "output_type": "stream",
     "text": [
      "Hactiv8\n"
     ]
    }
   ],
   "source": [
    "print(\"Hactiv8\")"
   ]
  },
  {
   "cell_type": "code",
   "execution_count": 23,
   "id": "05e59c33",
   "metadata": {},
   "outputs": [
    {
     "name": "stdout",
     "output_type": "stream",
     "text": [
      "<class 'str'>\n"
     ]
    }
   ],
   "source": [
    "print(type(\"Hactive8\"))"
   ]
  },
  {
   "cell_type": "markdown",
   "id": "900fee7c",
   "metadata": {},
   "source": [
    "# Boollean "
   ]
  },
  {
   "cell_type": "markdown",
   "id": "5d58a752",
   "metadata": {},
   "source": [
    "benar atau salah"
   ]
  },
  {
   "cell_type": "code",
   "execution_count": 24,
   "id": "50140d41",
   "metadata": {},
   "outputs": [
    {
     "name": "stdout",
     "output_type": "stream",
     "text": [
      "True\n"
     ]
    }
   ],
   "source": [
    "print(True)"
   ]
  },
  {
   "cell_type": "code",
   "execution_count": 27,
   "id": "f25d0d9d",
   "metadata": {},
   "outputs": [
    {
     "name": "stdout",
     "output_type": "stream",
     "text": [
      "False\n",
      "<class 'bool'>\n"
     ]
    }
   ],
   "source": [
    "print(False)\n",
    "print(type(False))"
   ]
  },
  {
   "cell_type": "markdown",
   "id": "6fd34248",
   "metadata": {},
   "source": [
    "## Tipe Data:\n",
    "1. Integer\n",
    "2. Float\n",
    "3. String\n",
    "4. Boollean"
   ]
  },
  {
   "cell_type": "markdown",
   "id": "91dfddf2",
   "metadata": {},
   "source": [
    "# Variable Assignment"
   ]
  },
  {
   "cell_type": "code",
   "execution_count": 42,
   "id": "ce48b11e",
   "metadata": {},
   "outputs": [
    {
     "data": {
      "text/plain": [
       "str"
      ]
     },
     "execution_count": 42,
     "metadata": {},
     "output_type": "execute_result"
    }
   ],
   "source": [
    "type(\"memasukan apapun kedalam variable integer,string,float,boolean\")"
   ]
  },
  {
   "cell_type": "code",
   "execution_count": 32,
   "id": "bf568d4b",
   "metadata": {},
   "outputs": [],
   "source": [
    "n =300"
   ]
  },
  {
   "cell_type": "code",
   "execution_count": 33,
   "id": "c459708e",
   "metadata": {},
   "outputs": [
    {
     "data": {
      "text/plain": [
       "300"
      ]
     },
     "execution_count": 33,
     "metadata": {},
     "output_type": "execute_result"
    }
   ],
   "source": [
    "n"
   ]
  },
  {
   "cell_type": "code",
   "execution_count": 34,
   "id": "1cebd13c",
   "metadata": {},
   "outputs": [],
   "source": [
    "ada_apa_dengan_cinta = \"baper sama rangga\""
   ]
  },
  {
   "cell_type": "code",
   "execution_count": 35,
   "id": "0a0ae091",
   "metadata": {},
   "outputs": [
    {
     "data": {
      "text/plain": [
       "'baper sama rangga'"
      ]
     },
     "execution_count": 35,
     "metadata": {},
     "output_type": "execute_result"
    }
   ],
   "source": [
    "ada_apa_dengan_cinta"
   ]
  },
  {
   "cell_type": "code",
   "execution_count": 36,
   "id": "011865e8",
   "metadata": {},
   "outputs": [],
   "source": [
    "n = 500"
   ]
  },
  {
   "cell_type": "code",
   "execution_count": 37,
   "id": "6dfc5234",
   "metadata": {},
   "outputs": [
    {
     "name": "stdout",
     "output_type": "stream",
     "text": [
      "500\n"
     ]
    }
   ],
   "source": [
    "print (n)"
   ]
  },
  {
   "cell_type": "code",
   "execution_count": 38,
   "id": "e0fd1673",
   "metadata": {},
   "outputs": [],
   "source": [
    "age = 1\n",
    "AGE = 2"
   ]
  },
  {
   "cell_type": "code",
   "execution_count": 39,
   "id": "afffea8e",
   "metadata": {},
   "outputs": [
    {
     "data": {
      "text/plain": [
       "1"
      ]
     },
     "execution_count": 39,
     "metadata": {},
     "output_type": "execute_result"
    }
   ],
   "source": [
    "age"
   ]
  },
  {
   "cell_type": "code",
   "execution_count": 40,
   "id": "37caa087",
   "metadata": {},
   "outputs": [
    {
     "data": {
      "text/plain": [
       "2"
      ]
     },
     "execution_count": 40,
     "metadata": {},
     "output_type": "execute_result"
    }
   ],
   "source": [
    "AGE"
   ]
  },
  {
   "cell_type": "code",
   "execution_count": 41,
   "id": "8b854b88",
   "metadata": {},
   "outputs": [
    {
     "ename": "NameError",
     "evalue": "name 'Age' is not defined",
     "output_type": "error",
     "traceback": [
      "\u001b[1;31m---------------------------------------------------------------------------\u001b[0m",
      "\u001b[1;31mNameError\u001b[0m                                 Traceback (most recent call last)",
      "\u001b[1;32m<ipython-input-41-f798102fc000>\u001b[0m in \u001b[0;36m<module>\u001b[1;34m\u001b[0m\n\u001b[1;32m----> 1\u001b[1;33m \u001b[0mAge\u001b[0m\u001b[1;33m\u001b[0m\u001b[1;33m\u001b[0m\u001b[0m\n\u001b[0m",
      "\u001b[1;31mNameError\u001b[0m: name 'Age' is not defined"
     ]
    }
   ],
   "source": [
    "Age"
   ]
  },
  {
   "cell_type": "code",
   "execution_count": 43,
   "id": "9cb3efab",
   "metadata": {},
   "outputs": [
    {
     "name": "stdout",
     "output_type": "stream",
     "text": [
      "1 2\n"
     ]
    }
   ],
   "source": [
    "print (age,AGE)"
   ]
  },
  {
   "cell_type": "code",
   "execution_count": 44,
   "id": "dfd31eb4",
   "metadata": {},
   "outputs": [],
   "source": [
    "a = b = c = 300"
   ]
  },
  {
   "cell_type": "code",
   "execution_count": 45,
   "id": "e3718977",
   "metadata": {},
   "outputs": [
    {
     "data": {
      "text/plain": [
       "300"
      ]
     },
     "execution_count": 45,
     "metadata": {},
     "output_type": "execute_result"
    }
   ],
   "source": [
    "a"
   ]
  },
  {
   "cell_type": "code",
   "execution_count": 46,
   "id": "0a52de33",
   "metadata": {},
   "outputs": [],
   "source": [
    "a= 100"
   ]
  },
  {
   "cell_type": "code",
   "execution_count": 47,
   "id": "2ab8ae4a",
   "metadata": {},
   "outputs": [
    {
     "data": {
      "text/plain": [
       "100"
      ]
     },
     "execution_count": 47,
     "metadata": {},
     "output_type": "execute_result"
    }
   ],
   "source": [
    "a"
   ]
  },
  {
   "cell_type": "code",
   "execution_count": 48,
   "id": "4d58a0a0",
   "metadata": {},
   "outputs": [],
   "source": [
    "b = 5"
   ]
  },
  {
   "cell_type": "markdown",
   "id": "6f5574ae",
   "metadata": {},
   "source": [
    "# Variable type in PY"
   ]
  },
  {
   "cell_type": "code",
   "execution_count": 51,
   "id": "f0b473d3",
   "metadata": {
    "scrolled": false
   },
   "outputs": [
    {
     "name": "stdout",
     "output_type": "stream",
     "text": [
      "23.5\n",
      "Now I'm is a string\n"
     ]
    }
   ],
   "source": [
    "var = 23.5\n",
    "print (var)\n",
    "var = \"Now I'm is a string\"\n",
    "print (var)"
   ]
  },
  {
   "cell_type": "code",
   "execution_count": 52,
   "id": "5edd1b91",
   "metadata": {},
   "outputs": [
    {
     "data": {
      "text/plain": [
       "str"
      ]
     },
     "execution_count": 52,
     "metadata": {},
     "output_type": "execute_result"
    }
   ],
   "source": [
    "type(\"variable tidak boleh dimulai dgn angka\")"
   ]
  },
  {
   "cell_type": "code",
   "execution_count": 56,
   "id": "abf3ea0b",
   "metadata": {},
   "outputs": [],
   "source": [
    "_kepala_naga=True"
   ]
  },
  {
   "cell_type": "code",
   "execution_count": 59,
   "id": "5220c816",
   "metadata": {},
   "outputs": [
    {
     "data": {
      "text/plain": [
       "int"
      ]
     },
     "execution_count": 59,
     "metadata": {},
     "output_type": "execute_result"
    }
   ],
   "source": [
    "type (\"Age\")\n",
    "Age = 54\n",
    "type (Age)"
   ]
  },
  {
   "cell_type": "code",
   "execution_count": 66,
   "id": "c56f0ca1",
   "metadata": {},
   "outputs": [
    {
     "data": {
      "text/plain": [
       "str"
      ]
     },
     "execution_count": 66,
     "metadata": {},
     "output_type": "execute_result"
    }
   ],
   "source": [
    "type(\"has_laptops\")"
   ]
  },
  {
   "cell_type": "code",
   "execution_count": 73,
   "id": "b967e608",
   "metadata": {
    "scrolled": true
   },
   "outputs": [],
   "source": [
    "has_laptops = bool"
   ]
  },
  {
   "cell_type": "code",
   "execution_count": 68,
   "id": "0d50b9f2",
   "metadata": {},
   "outputs": [
    {
     "data": {
      "text/plain": [
       "bool"
      ]
     },
     "execution_count": 68,
     "metadata": {},
     "output_type": "execute_result"
    }
   ],
   "source": [
    "has_laptop"
   ]
  },
  {
   "cell_type": "markdown",
   "id": "8865b6a6",
   "metadata": {},
   "source": [
    "# Variable Name"
   ]
  },
  {
   "cell_type": "code",
   "execution_count": 74,
   "id": "c35b34b6",
   "metadata": {},
   "outputs": [
    {
     "name": "stdout",
     "output_type": "stream",
     "text": [
      "Hactiv8 54 True\n"
     ]
    }
   ],
   "source": [
    "name = \"Hactiv8\"\n",
    "Age = 54\n",
    "has_laptops = True\n",
    "print (name, Age, has_laptops)"
   ]
  },
  {
   "cell_type": "code",
   "execution_count": 75,
   "id": "987fdbf1",
   "metadata": {},
   "outputs": [],
   "source": [
    "kepala_naga = True"
   ]
  },
  {
   "cell_type": "code",
   "execution_count": 76,
   "id": "1c36d1ab",
   "metadata": {},
   "outputs": [
    {
     "data": {
      "text/plain": [
       "True"
      ]
     },
     "execution_count": 76,
     "metadata": {},
     "output_type": "execute_result"
    }
   ],
   "source": [
    "kepala_naga"
   ]
  },
  {
   "cell_type": "code",
   "execution_count": 77,
   "id": "28ef47aa",
   "metadata": {},
   "outputs": [],
   "source": [
    "_AGE_ = True"
   ]
  },
  {
   "cell_type": "code",
   "execution_count": 78,
   "id": "2643e2d7",
   "metadata": {},
   "outputs": [
    {
     "data": {
      "text/plain": [
       "True"
      ]
     },
     "execution_count": 78,
     "metadata": {},
     "output_type": "execute_result"
    }
   ],
   "source": [
    "_AGE_"
   ]
  },
  {
   "cell_type": "code",
   "execution_count": 87,
   "id": "91addb80",
   "metadata": {},
   "outputs": [
    {
     "data": {
      "text/plain": [
       "True"
      ]
     },
     "execution_count": 87,
     "metadata": {},
     "output_type": "execute_result"
    }
   ],
   "source": [
    "_kepala_naga = True\n",
    "_kepala_naga"
   ]
  },
  {
   "cell_type": "markdown",
   "id": "ea71f26b",
   "metadata": {},
   "source": [
    "# Operators and Expresion in PY"
   ]
  },
  {
   "cell_type": "code",
   "execution_count": 91,
   "id": "ed3ec161",
   "metadata": {},
   "outputs": [
    {
     "data": {
      "text/plain": [
       "30.0"
      ]
     },
     "execution_count": 91,
     "metadata": {},
     "output_type": "execute_result"
    }
   ],
   "source": [
    "a = 10\n",
    "b = 20.0\n",
    "a+b"
   ]
  },
  {
   "cell_type": "code",
   "execution_count": 80,
   "id": "34b49f08",
   "metadata": {},
   "outputs": [
    {
     "data": {
      "text/plain": [
       "30"
      ]
     },
     "execution_count": 80,
     "metadata": {},
     "output_type": "execute_result"
    }
   ],
   "source": [
    "a = 10\n",
    "b = 20\n",
    "a+b "
   ]
  },
  {
   "cell_type": "code",
   "execution_count": 81,
   "id": "17a66546",
   "metadata": {},
   "outputs": [
    {
     "data": {
      "text/plain": [
       "25"
      ]
     },
     "execution_count": 81,
     "metadata": {},
     "output_type": "execute_result"
    }
   ],
   "source": [
    "a + b - 5"
   ]
  },
  {
   "cell_type": "markdown",
   "id": "5ea20d93",
   "metadata": {},
   "source": [
    "# Arthmetic Operators"
   ]
  },
  {
   "cell_type": "code",
   "execution_count": 99,
   "id": "acdc6382",
   "metadata": {},
   "outputs": [
    {
     "name": "stdout",
     "output_type": "stream",
     "text": [
      "7\n",
      "1\n",
      "12\n",
      "1.3333333333333333\n",
      "1\n",
      "64\n"
     ]
    }
   ],
   "source": [
    "a=4\n",
    "b=3\n",
    "print (a+b)\n",
    "print (a-b)\n",
    "print (a*b)\n",
    "print (a/b)\n",
    "print (a%b)\n",
    "print (a**b)"
   ]
  },
  {
   "cell_type": "code",
   "execution_count": 85,
   "id": "3ad4bb8b",
   "metadata": {},
   "outputs": [
    {
     "data": {
      "text/plain": [
       "2.0"
      ]
     },
     "execution_count": 85,
     "metadata": {},
     "output_type": "execute_result"
    }
   ],
   "source": [
    "10/5"
   ]
  },
  {
   "cell_type": "markdown",
   "id": "7230dc25",
   "metadata": {},
   "source": [
    "# Comparison Operators"
   ]
  },
  {
   "cell_type": "code",
   "execution_count": 103,
   "id": "5a632487",
   "metadata": {},
   "outputs": [
    {
     "data": {
      "text/plain": [
       "False"
      ]
     },
     "execution_count": 103,
     "metadata": {},
     "output_type": "execute_result"
    }
   ],
   "source": [
    "a=10\n",
    "b=20\n",
    "a == b"
   ]
  },
  {
   "cell_type": "code",
   "execution_count": 104,
   "id": "ad38bd75",
   "metadata": {},
   "outputs": [
    {
     "data": {
      "text/plain": [
       "True"
      ]
     },
     "execution_count": 104,
     "metadata": {},
     "output_type": "execute_result"
    }
   ],
   "source": [
    "a!=b"
   ]
  },
  {
   "cell_type": "code",
   "execution_count": 105,
   "id": "4298f4a8",
   "metadata": {},
   "outputs": [
    {
     "data": {
      "text/plain": [
       "True"
      ]
     },
     "execution_count": 105,
     "metadata": {},
     "output_type": "execute_result"
    }
   ],
   "source": [
    "a<=b"
   ]
  },
  {
   "cell_type": "code",
   "execution_count": 106,
   "id": "ca30b2a1",
   "metadata": {},
   "outputs": [
    {
     "data": {
      "text/plain": [
       "False"
      ]
     },
     "execution_count": 106,
     "metadata": {},
     "output_type": "execute_result"
    }
   ],
   "source": [
    "a>=b"
   ]
  },
  {
   "cell_type": "markdown",
   "id": "28f490d0",
   "metadata": {},
   "source": [
    "# String Manipulation"
   ]
  },
  {
   "cell_type": "code",
   "execution_count": 109,
   "id": "9f8d4645",
   "metadata": {},
   "outputs": [
    {
     "name": "stdout",
     "output_type": "stream",
     "text": [
      "foobar\n",
      "foobarbaz\n",
      "Hactive8PTP\n",
      "<class 'str'>\n"
     ]
    },
    {
     "data": {
      "text/plain": [
       "'foofoofoofoo'"
      ]
     },
     "execution_count": 109,
     "metadata": {},
     "output_type": "execute_result"
    }
   ],
   "source": [
    "s = 'foo'\n",
    "t = 'bar'\n",
    "u = 'baz'\n",
    "print (s+t)\n",
    "print (s+t+u)\n",
    "print ('Hactive8'+'PTP')\n",
    "print (type('s+u'))\n",
    "s*4"
   ]
  },
  {
   "cell_type": "markdown",
   "id": "b996f0b5",
   "metadata": {},
   "source": [
    "### in operators"
   ]
  },
  {
   "cell_type": "code",
   "execution_count": 111,
   "id": "6837a933",
   "metadata": {},
   "outputs": [
    {
     "name": "stdout",
     "output_type": "stream",
     "text": [
      "True\n",
      "False\n"
     ]
    }
   ],
   "source": [
    "s ='foo'\n",
    "print(s in'That food for us')\n",
    "print(s in'That good for us')"
   ]
  },
  {
   "cell_type": "markdown",
   "id": "8eca2da9",
   "metadata": {},
   "source": [
    "karena ada bagian dari string tersebut ada didalam code atau tidak"
   ]
  },
  {
   "cell_type": "code",
   "execution_count": 119,
   "id": "a4ee0036",
   "metadata": {},
   "outputs": [
    {
     "name": "stdout",
     "output_type": "stream",
     "text": [
      "Hactive8 sebuah title\n",
      "hactive8 sebuah title\n",
      "hACTive8 SEBUAH TITLE\n",
      "Hactive8 Sebuah Title\n",
      "HACTIVE8 SEBUAH TITLE\n"
     ]
    }
   ],
   "source": [
    "s = 'HactIVE8 sebuah title'\n",
    "\n",
    "# capitalize\n",
    "print(s.capitalize())\n",
    "\n",
    "# lower\n",
    "print (s.lower())\n",
    "\n",
    "# swapcase\n",
    "print(s.swapcase())\n",
    "\n",
    "# title\n",
    "print(s.title())\n",
    "\n",
    "# Uppercase\n",
    "print(s.upper())"
   ]
  },
  {
   "cell_type": "markdown",
   "id": "5315da51",
   "metadata": {},
   "source": [
    "# Struktur Data : Python List"
   ]
  },
  {
   "cell_type": "code",
   "execution_count": 124,
   "id": "e17517fc",
   "metadata": {},
   "outputs": [
    {
     "name": "stdout",
     "output_type": "stream",
     "text": [
      "['foo', 'bar', 'baz', 'qux']\n"
     ]
    }
   ],
   "source": [
    "a=['foo', 'bar', 'baz','qux']\n",
    "print (a)"
   ]
  },
  {
   "cell_type": "markdown",
   "id": "e31d7918",
   "metadata": {},
   "source": [
    "## Order Objects"
   ]
  },
  {
   "cell_type": "code",
   "execution_count": 128,
   "id": "633ccfa1",
   "metadata": {},
   "outputs": [
    {
     "data": {
      "text/plain": [
       "False"
      ]
     },
     "execution_count": 128,
     "metadata": {},
     "output_type": "execute_result"
    }
   ],
   "source": [
    "a=['foo', 'bar', 'baz','qux']\n",
    "b=['bar', 'baz','qux', 'foo']\n",
    "a==b\n"
   ]
  },
  {
   "cell_type": "code",
   "execution_count": 129,
   "id": "25c33bc9",
   "metadata": {},
   "outputs": [
    {
     "data": {
      "text/plain": [
       "True"
      ]
     },
     "execution_count": 129,
     "metadata": {},
     "output_type": "execute_result"
    }
   ],
   "source": [
    "a!=b"
   ]
  },
  {
   "cell_type": "code",
   "execution_count": 130,
   "id": "4600e684",
   "metadata": {},
   "outputs": [
    {
     "name": "stdout",
     "output_type": "stream",
     "text": [
      "[21.42, 'foobar', 3, 4, 'bark', False, 3.14]\n"
     ]
    }
   ],
   "source": [
    "a = [21.42, 'foobar', 3, 4, 'bark', False, 3.14]\n",
    "print (a)"
   ]
  },
  {
   "cell_type": "code",
   "execution_count": 137,
   "id": "df826265",
   "metadata": {},
   "outputs": [
    {
     "data": {
      "text/plain": [
       "str"
      ]
     },
     "execution_count": 137,
     "metadata": {},
     "output_type": "execute_result"
    }
   ],
   "source": [
    "type (a[1])"
   ]
  },
  {
   "cell_type": "code",
   "execution_count": 143,
   "id": "e70feb68",
   "metadata": {},
   "outputs": [
    {
     "name": "stdout",
     "output_type": "stream",
     "text": [
      "21.42\n"
     ]
    },
    {
     "data": {
      "text/plain": [
       "float"
      ]
     },
     "execution_count": 143,
     "metadata": {},
     "output_type": "execute_result"
    }
   ],
   "source": [
    "print(a[0])\n",
    "type (a[0])"
   ]
  },
  {
   "cell_type": "markdown",
   "id": "1f5a0ea7",
   "metadata": {},
   "source": [
    "#### Slicing = mencari code pada element tertentu"
   ]
  },
  {
   "cell_type": "code",
   "execution_count": 146,
   "id": "2e2531ff",
   "metadata": {},
   "outputs": [
    {
     "data": {
      "text/plain": [
       "[3, 4, 'bark']"
      ]
     },
     "execution_count": 146,
     "metadata": {},
     "output_type": "execute_result"
    }
   ],
   "source": [
    "a[2:5]"
   ]
  },
  {
   "cell_type": "markdown",
   "id": "ca127811",
   "metadata": {},
   "source": [
    "#### concatenation = menambahkan element baru"
   ]
  },
  {
   "cell_type": "code",
   "execution_count": 147,
   "id": "4f0a84a1",
   "metadata": {},
   "outputs": [],
   "source": [
    "a=['foo', 'bar', 'baz','qux']"
   ]
  },
  {
   "cell_type": "code",
   "execution_count": 148,
   "id": "c347c202",
   "metadata": {},
   "outputs": [
    {
     "data": {
      "text/plain": [
       "['foo', 'bar', 'baz', 'qux']"
      ]
     },
     "execution_count": 148,
     "metadata": {},
     "output_type": "execute_result"
    }
   ],
   "source": [
    "a"
   ]
  },
  {
   "cell_type": "code",
   "execution_count": 149,
   "id": "324f959a",
   "metadata": {},
   "outputs": [
    {
     "name": "stdout",
     "output_type": "stream",
     "text": [
      "['foo', 'bar', 'baz', 'qux', 'grault', 'garply']\n"
     ]
    }
   ],
   "source": [
    "print(a+['grault', 'garply'])"
   ]
  },
  {
   "cell_type": "code",
   "execution_count": 150,
   "id": "e5a64bf3",
   "metadata": {},
   "outputs": [
    {
     "name": "stdout",
     "output_type": "stream",
     "text": [
      "['foo', 'bar', 'baz', 'qux', 'foo', 'bar', 'baz', 'qux']\n"
     ]
    }
   ],
   "source": [
    "print(a*2)"
   ]
  },
  {
   "cell_type": "markdown",
   "id": "b4581ce0",
   "metadata": {},
   "source": [
    "#### len (panjang); min; max"
   ]
  },
  {
   "cell_type": "code",
   "execution_count": 151,
   "id": "eaa89691",
   "metadata": {},
   "outputs": [
    {
     "name": "stdout",
     "output_type": "stream",
     "text": [
      "['foo', 'bar', 'baz', 'qux']\n"
     ]
    }
   ],
   "source": [
    "print (a)"
   ]
  },
  {
   "cell_type": "code",
   "execution_count": 153,
   "id": "fe964407",
   "metadata": {},
   "outputs": [
    {
     "data": {
      "text/plain": [
       "4"
      ]
     },
     "execution_count": 153,
     "metadata": {},
     "output_type": "execute_result"
    }
   ],
   "source": [
    "len (a)\n"
   ]
  },
  {
   "cell_type": "code",
   "execution_count": 154,
   "id": "37baddaf",
   "metadata": {},
   "outputs": [
    {
     "data": {
      "text/plain": [
       "'bar'"
      ]
     },
     "execution_count": 154,
     "metadata": {},
     "output_type": "execute_result"
    }
   ],
   "source": [
    "min (a)"
   ]
  },
  {
   "cell_type": "code",
   "execution_count": 155,
   "id": "27407e24",
   "metadata": {},
   "outputs": [
    {
     "data": {
      "text/plain": [
       "'qux'"
      ]
     },
     "execution_count": 155,
     "metadata": {},
     "output_type": "execute_result"
    }
   ],
   "source": [
    "max(a)"
   ]
  },
  {
   "cell_type": "markdown",
   "id": "227fe2a3",
   "metadata": {},
   "source": [
    "# Modifying Single List Value"
   ]
  },
  {
   "cell_type": "code",
   "execution_count": 156,
   "id": "01c10134",
   "metadata": {},
   "outputs": [
    {
     "name": "stdout",
     "output_type": "stream",
     "text": [
      "['foo', 'bar', 'baz', 'qux', 'corge']\n"
     ]
    }
   ],
   "source": [
    "a=['foo', 'bar', 'baz','qux','corge']\n",
    "\n",
    "print (a)"
   ]
  },
  {
   "cell_type": "code",
   "execution_count": 159,
   "id": "3499855a",
   "metadata": {},
   "outputs": [
    {
     "name": "stdout",
     "output_type": "stream",
     "text": [
      "['foo', 'bar', 10, 'qux', 'corge']\n"
     ]
    }
   ],
   "source": [
    "a[2] = 10\n",
    "print (a)"
   ]
  },
  {
   "cell_type": "code",
   "execution_count": 160,
   "id": "fa4dc5d3",
   "metadata": {},
   "outputs": [],
   "source": [
    "a[-1]=20"
   ]
  },
  {
   "cell_type": "code",
   "execution_count": 161,
   "id": "2086767f",
   "metadata": {},
   "outputs": [
    {
     "name": "stdout",
     "output_type": "stream",
     "text": [
      "['foo', 'bar', 10, 'qux', 20]\n"
     ]
    }
   ],
   "source": [
    "print(a)"
   ]
  },
  {
   "cell_type": "code",
   "execution_count": 162,
   "id": "ec93ad93",
   "metadata": {},
   "outputs": [],
   "source": [
    "del a [3]"
   ]
  },
  {
   "cell_type": "code",
   "execution_count": 163,
   "id": "c60d1551",
   "metadata": {},
   "outputs": [
    {
     "name": "stdout",
     "output_type": "stream",
     "text": [
      "['foo', 'bar', 10, 20]\n"
     ]
    }
   ],
   "source": [
    "print (a)"
   ]
  },
  {
   "cell_type": "code",
   "execution_count": 164,
   "id": "2a4ceb53",
   "metadata": {},
   "outputs": [],
   "source": [
    "a=['foo', 'bar', 'baz','quuux','qux','corge']"
   ]
  },
  {
   "cell_type": "code",
   "execution_count": 165,
   "id": "f5b43f45",
   "metadata": {},
   "outputs": [
    {
     "name": "stdout",
     "output_type": "stream",
     "text": [
      "['foo', 'bar', 'baz', 'quuux', 'qux', 'corge']\n"
     ]
    }
   ],
   "source": [
    "print (a)"
   ]
  },
  {
   "cell_type": "code",
   "execution_count": 166,
   "id": "0ca64fa5",
   "metadata": {},
   "outputs": [
    {
     "data": {
      "text/plain": [
       "'baz'"
      ]
     },
     "execution_count": 166,
     "metadata": {},
     "output_type": "execute_result"
    }
   ],
   "source": [
    "a[-4]"
   ]
  },
  {
   "cell_type": "code",
   "execution_count": 167,
   "id": "29a83b20",
   "metadata": {},
   "outputs": [
    {
     "name": "stdout",
     "output_type": "stream",
     "text": [
      "['foo', 'bar', 'baz', 'quuux', 'qux', 'corge', '10']\n"
     ]
    }
   ],
   "source": [
    "print (a+[\"10\"])"
   ]
  },
  {
   "cell_type": "markdown",
   "id": "cc19e644",
   "metadata": {},
   "source": [
    "# Modifying multiple list"
   ]
  },
  {
   "cell_type": "code",
   "execution_count": 173,
   "id": "4270ba7b",
   "metadata": {},
   "outputs": [],
   "source": [
    "a=['foo', 'bar', 'baz','quuux','qux','corge']\n"
   ]
  },
  {
   "cell_type": "code",
   "execution_count": 174,
   "id": "79112148",
   "metadata": {},
   "outputs": [
    {
     "name": "stdout",
     "output_type": "stream",
     "text": [
      "['bar', 'baz', 'quuux']\n"
     ]
    }
   ],
   "source": [
    "print (a[1:4])"
   ]
  },
  {
   "cell_type": "code",
   "execution_count": 175,
   "id": "85613702",
   "metadata": {},
   "outputs": [],
   "source": [
    "a[1:4] = [1.1, 2.2, 3.3, 4.4, 5.5]"
   ]
  },
  {
   "cell_type": "code",
   "execution_count": 176,
   "id": "41e0a179",
   "metadata": {},
   "outputs": [
    {
     "name": "stdout",
     "output_type": "stream",
     "text": [
      "['foo', 1.1, 2.2, 3.3, 4.4, 5.5, 'qux', 'corge']\n"
     ]
    }
   ],
   "source": [
    "print (a)"
   ]
  },
  {
   "cell_type": "code",
   "execution_count": 177,
   "id": "89e40f3c",
   "metadata": {},
   "outputs": [
    {
     "name": "stdout",
     "output_type": "stream",
     "text": [
      "foo\n",
      "[1, 2, 3, 4, 5, 6, 7, 8, 9, 'bar', 'baz', 'quuux', 'qux', 'corge']\n"
     ]
    }
   ],
   "source": [
    "a=['foo', 'bar', 'baz','quuux','qux','corge']\n",
    "print (a[0])\n",
    "a[0:1] = [1,2,3,4,5,6,7,8,9]\n",
    "print (a)"
   ]
  },
  {
   "cell_type": "code",
   "execution_count": 178,
   "id": "2244e82c",
   "metadata": {},
   "outputs": [
    {
     "name": "stdout",
     "output_type": "stream",
     "text": [
      "['foo', 1, 2, 3, 4, 5, 'bar', 'baz', 'quuux', 'qux', 'corge']\n"
     ]
    }
   ],
   "source": [
    "a=['foo', 'bar', 'baz','quuux','qux','corge']\n",
    "\n",
    "a[1:1]=[1,2,3,4,5]\n",
    "print(a)"
   ]
  },
  {
   "cell_type": "code",
   "execution_count": 181,
   "id": "41fcc521",
   "metadata": {},
   "outputs": [
    {
     "name": "stdout",
     "output_type": "stream",
     "text": [
      "['foo', 1, 2, 3, 4, 5, 'qux', 'corge']\n"
     ]
    }
   ],
   "source": [
    "a=['foo', 'bar', 'baz','quuux','qux','corge']\n",
    "a[1:4] = [1,2,3,4,5]\n",
    "print (a)"
   ]
  },
  {
   "cell_type": "code",
   "execution_count": 190,
   "id": "0fd5d192",
   "metadata": {},
   "outputs": [
    {
     "name": "stdout",
     "output_type": "stream",
     "text": [
      "['foo', 1, 2, 3, 'bar', 'baz', 'quuux', 'qux', 'corge']\n"
     ]
    }
   ],
   "source": [
    "a=['foo', 'bar', 'baz','quuux','qux','corge']\n",
    "a[1:1] = [1,2,3]\n",
    "print (a)\n"
   ]
  },
  {
   "cell_type": "code",
   "execution_count": 193,
   "id": "dda36477",
   "metadata": {},
   "outputs": [
    {
     "name": "stdout",
     "output_type": "stream",
     "text": [
      "['foo', 1, 2, 3, 'bar', 0, 0, 4.4, 0, 4.4, 'quuux', 'qux', 'corge']\n"
     ]
    }
   ],
   "source": [
    "a[-4:-3] = [0,4.4]\n",
    "print (a)"
   ]
  },
  {
   "cell_type": "markdown",
   "id": "3a5152ee",
   "metadata": {},
   "source": [
    "# Tuple"
   ]
  },
  {
   "cell_type": "code",
   "execution_count": 197,
   "id": "d607ffcc",
   "metadata": {},
   "outputs": [
    {
     "name": "stdout",
     "output_type": "stream",
     "text": [
      "('foo', 'bar', 'baz', 'quuux', 'qux', 'corge')\n"
     ]
    }
   ],
   "source": [
    "t= ('foo', 'bar', 'baz','quuux','qux','corge')\n",
    "print(t)"
   ]
  },
  {
   "cell_type": "code",
   "execution_count": 198,
   "id": "42d8bcb4",
   "metadata": {},
   "outputs": [
    {
     "data": {
      "text/plain": [
       "tuple"
      ]
     },
     "execution_count": 198,
     "metadata": {},
     "output_type": "execute_result"
    }
   ],
   "source": [
    "type(t)"
   ]
  },
  {
   "cell_type": "code",
   "execution_count": 199,
   "id": "2bc06bf7",
   "metadata": {},
   "outputs": [
    {
     "data": {
      "text/plain": [
       "'foo'"
      ]
     },
     "execution_count": 199,
     "metadata": {},
     "output_type": "execute_result"
    }
   ],
   "source": [
    "t[0]"
   ]
  },
  {
   "cell_type": "code",
   "execution_count": 202,
   "id": "72eeee71",
   "metadata": {},
   "outputs": [
    {
     "name": "stdout",
     "output_type": "stream",
     "text": [
      "tuple tidak bisa diubah dan di manipulasi\n"
     ]
    }
   ],
   "source": [
    "print(\"tuple tidak bisa diubah dan di manipulasi\")"
   ]
  },
  {
   "cell_type": "code",
   "execution_count": 203,
   "id": "02f04b72",
   "metadata": {},
   "outputs": [],
   "source": [
    "s1, s2, s3, s4 = ('foo', 'bar', 'baz','quuux')"
   ]
  },
  {
   "cell_type": "code",
   "execution_count": 204,
   "id": "f9066d12",
   "metadata": {},
   "outputs": [
    {
     "data": {
      "text/plain": [
       "'foo'"
      ]
     },
     "execution_count": 204,
     "metadata": {},
     "output_type": "execute_result"
    }
   ],
   "source": [
    "s1"
   ]
  },
  {
   "cell_type": "code",
   "execution_count": 208,
   "id": "cd3e9644",
   "metadata": {},
   "outputs": [
    {
     "ename": "TypeError",
     "evalue": "'tuple' object does not support item assignment",
     "output_type": "error",
     "traceback": [
      "\u001b[1;31m---------------------------------------------------------------------------\u001b[0m",
      "\u001b[1;31mTypeError\u001b[0m                                 Traceback (most recent call last)",
      "\u001b[1;32m<ipython-input-208-ef99ca57af67>\u001b[0m in \u001b[0;36m<module>\u001b[1;34m\u001b[0m\n\u001b[1;32m----> 1\u001b[1;33m \u001b[0mt\u001b[0m\u001b[1;33m[\u001b[0m\u001b[1;36m0\u001b[0m\u001b[1;33m]\u001b[0m \u001b[1;33m=\u001b[0m \u001b[1;34m'value baru'\u001b[0m\u001b[1;33m\u001b[0m\u001b[1;33m\u001b[0m\u001b[0m\n\u001b[0m",
      "\u001b[1;31mTypeError\u001b[0m: 'tuple' object does not support item assignment"
     ]
    }
   ],
   "source": [
    "t[0] = 'value baru'"
   ]
  },
  {
   "cell_type": "markdown",
   "id": "f3b8aba0",
   "metadata": {},
   "source": [
    "# Dictionary"
   ]
  },
  {
   "cell_type": "code",
   "execution_count": 209,
   "id": "330361fa",
   "metadata": {},
   "outputs": [
    {
     "name": "stdout",
     "output_type": "stream",
     "text": [
      "bisa diganti dan ditambahkan\n"
     ]
    }
   ],
   "source": [
    "print ('bisa diganti dan ditambahkan')"
   ]
  },
  {
   "cell_type": "code",
   "execution_count": 212,
   "id": "7c46fa62",
   "metadata": {},
   "outputs": [],
   "source": [
    "a = [1,2,3,4,5,[10,20,30,40,['list baru', 'inception list']]]"
   ]
  },
  {
   "cell_type": "code",
   "execution_count": 216,
   "id": "cf8e81ed",
   "metadata": {},
   "outputs": [
    {
     "data": {
      "text/plain": [
       "'inception list'"
      ]
     },
     "execution_count": 216,
     "metadata": {},
     "output_type": "execute_result"
    }
   ],
   "source": [
    "a[-1][-1][-1]"
   ]
  },
  {
   "cell_type": "code",
   "execution_count": 281,
   "id": "ea8da96a",
   "metadata": {},
   "outputs": [],
   "source": [
    "MLB_team = {\n",
    "    'Colorando' : 'Rockies', \n",
    "    'Boston': 'Red Socks',\n",
    "    'Minnesota':'Twins',\n",
    "    'Milwaukee':'Brewers',\n",
    "    'Seattle' : 'Manriners'\n",
    "}"
   ]
  },
  {
   "cell_type": "code",
   "execution_count": 284,
   "id": "a665a4b9",
   "metadata": {},
   "outputs": [
    {
     "data": {
      "text/plain": [
       "{'Colorando': 'Rockies',\n",
       " 'Boston': 'Red Socks',\n",
       " 'Minnesota': 'Twins',\n",
       " 'Milwaukee': 'Brewers',\n",
       " 'Seattle': 'Manriners',\n",
       " 'Kansas City': 'Royals'}"
      ]
     },
     "execution_count": 284,
     "metadata": {},
     "output_type": "execute_result"
    }
   ],
   "source": [
    "MLB_team['Kansas City']='Royals'\n",
    "MLB_team"
   ]
  },
  {
   "cell_type": "code",
   "execution_count": 287,
   "id": "15574e64",
   "metadata": {},
   "outputs": [
    {
     "data": {
      "text/plain": [
       "{'Colorando': 'Rockies',\n",
       " 'Boston': 'Red Socks',\n",
       " 'Minnesota': 'Twins',\n",
       " 'Milwaukee': 'Brewers',\n",
       " 'Seattle': 'Seahawks',\n",
       " 'Kansas City': 'Royals',\n",
       " 'Colorado': 'Royals'}"
      ]
     },
     "execution_count": 287,
     "metadata": {},
     "output_type": "execute_result"
    }
   ],
   "source": [
    "MLB_team['Seattle'] = 'Seahawks'\n",
    "MLB_team"
   ]
  },
  {
   "cell_type": "code",
   "execution_count": 288,
   "id": "8b3af933",
   "metadata": {},
   "outputs": [
    {
     "data": {
      "text/plain": [
       "{'Colorando': 'Rockies',\n",
       " 'Boston': 'Red Socks',\n",
       " 'Minnesota': 'Twins',\n",
       " 'Milwaukee': 'Brewers',\n",
       " 'Kansas City': 'Royals',\n",
       " 'Colorado': 'Royals'}"
      ]
     },
     "execution_count": 288,
     "metadata": {},
     "output_type": "execute_result"
    }
   ],
   "source": [
    "del MLB_team['Seattle']\n",
    "MLB_team"
   ]
  },
  {
   "cell_type": "markdown",
   "id": "2abd9a5d",
   "metadata": {},
   "source": [
    "# Build Dict Incremental"
   ]
  },
  {
   "cell_type": "code",
   "execution_count": 233,
   "id": "419f3fb9",
   "metadata": {},
   "outputs": [
    {
     "data": {
      "text/plain": [
       "dict"
      ]
     },
     "execution_count": 233,
     "metadata": {},
     "output_type": "execute_result"
    }
   ],
   "source": [
    "person = {}\n",
    "type(person)"
   ]
  },
  {
   "cell_type": "code",
   "execution_count": 234,
   "id": "4e957550",
   "metadata": {},
   "outputs": [
    {
     "data": {
      "text/plain": [
       "0"
      ]
     },
     "execution_count": 234,
     "metadata": {},
     "output_type": "execute_result"
    }
   ],
   "source": [
    "len(person)"
   ]
  },
  {
   "cell_type": "code",
   "execution_count": 249,
   "id": "3812b822",
   "metadata": {},
   "outputs": [],
   "source": [
    "person ['fname'] = 'Hack'\n",
    "person ['lname'] = 'PTP'\n",
    "person ['age'] = '51'\n",
    "person ['spouse'] = 'Eve'"
   ]
  },
  {
   "cell_type": "code",
   "execution_count": 238,
   "id": "ea08e0bf",
   "metadata": {},
   "outputs": [
    {
     "data": {
      "text/plain": [
       "{'fname': 'Hack', 'lname': 'PTP', 'age': '51'}"
      ]
     },
     "execution_count": 238,
     "metadata": {},
     "output_type": "execute_result"
    }
   ],
   "source": [
    "person"
   ]
  },
  {
   "cell_type": "code",
   "execution_count": 240,
   "id": "ab4fa2b0",
   "metadata": {},
   "outputs": [
    {
     "name": "stdout",
     "output_type": "stream",
     "text": [
      "51\n"
     ]
    }
   ],
   "source": [
    "print(person['age'])"
   ]
  },
  {
   "cell_type": "code",
   "execution_count": 251,
   "id": "7a03402a",
   "metadata": {},
   "outputs": [],
   "source": [
    "d={'a':10,'b':20,'c':30}"
   ]
  },
  {
   "cell_type": "code",
   "execution_count": 252,
   "id": "d2c694cc",
   "metadata": {},
   "outputs": [
    {
     "data": {
      "text/plain": [
       "{'a': 10, 'b': 20, 'c': 30}"
      ]
     },
     "execution_count": 252,
     "metadata": {},
     "output_type": "execute_result"
    }
   ],
   "source": [
    "d"
   ]
  },
  {
   "cell_type": "code",
   "execution_count": 253,
   "id": "1d855450",
   "metadata": {},
   "outputs": [
    {
     "name": "stdout",
     "output_type": "stream",
     "text": [
      "dict_items([('a', 10), ('b', 20), ('c', 30)])\n"
     ]
    }
   ],
   "source": [
    "print(d.items())"
   ]
  },
  {
   "cell_type": "code",
   "execution_count": 255,
   "id": "a4c35e38",
   "metadata": {},
   "outputs": [
    {
     "name": "stdout",
     "output_type": "stream",
     "text": [
      "dict_keys(['a', 'b', 'c'])\n"
     ]
    }
   ],
   "source": [
    "print(d.keys())"
   ]
  },
  {
   "cell_type": "code",
   "execution_count": 256,
   "id": "e8b26f90",
   "metadata": {},
   "outputs": [
    {
     "name": "stdout",
     "output_type": "stream",
     "text": [
      "dict_values([10, 20, 30])\n"
     ]
    }
   ],
   "source": [
    "print(d.values())"
   ]
  },
  {
   "cell_type": "markdown",
   "id": "99e21de1",
   "metadata": {},
   "source": [
    "# Line Continuation"
   ]
  },
  {
   "cell_type": "code",
   "execution_count": 257,
   "id": "187d761c",
   "metadata": {},
   "outputs": [],
   "source": [
    "person1_age = 42\n",
    "person2_age = 16\n",
    "person3_age = 71"
   ]
  },
  {
   "cell_type": "code",
   "execution_count": 258,
   "id": "70d4e4e5",
   "metadata": {},
   "outputs": [
    {
     "data": {
      "text/plain": [
       "True"
      ]
     },
     "execution_count": 258,
     "metadata": {},
     "output_type": "execute_result"
    }
   ],
   "source": [
    "(person1_age >= 18 and person1_age <=65)"
   ]
  },
  {
   "cell_type": "code",
   "execution_count": 259,
   "id": "71484fc8",
   "metadata": {},
   "outputs": [
    {
     "data": {
      "text/plain": [
       "True"
      ]
     },
     "execution_count": 259,
     "metadata": {},
     "output_type": "execute_result"
    }
   ],
   "source": [
    "(person1_age >= 18 and person1_age <=65) or (person2_age>=18)"
   ]
  },
  {
   "cell_type": "code",
   "execution_count": 261,
   "id": "aef3fd05",
   "metadata": {},
   "outputs": [
    {
     "data": {
      "text/plain": [
       "False"
      ]
     },
     "execution_count": 261,
     "metadata": {},
     "output_type": "execute_result"
    }
   ],
   "source": [
    "(person2_age>=18)"
   ]
  },
  {
   "cell_type": "markdown",
   "id": "07c0fcaa",
   "metadata": {},
   "source": [
    "# SESI 2"
   ]
  },
  {
   "cell_type": "markdown",
   "id": "433d505d",
   "metadata": {},
   "source": [
    "# Condition"
   ]
  },
  {
   "cell_type": "markdown",
   "id": "141f7b36",
   "metadata": {},
   "source": [
    "Equal: a==b\n",
    "\n",
    "Not Equal: a!=b\n",
    "\n",
    "Less than: a<b\n",
    "\n",
    "Less than or equal to: a<=b\n",
    "\n",
    "Greater than a>b\n",
    "\n",
    "Greater than or equalto: a>=b\n"
   ]
  },
  {
   "cell_type": "markdown",
   "id": "78cce75f",
   "metadata": {},
   "source": [
    "##### IF statement merupakan perntaraan kondisional dimana dengan formula if(Expression in Boolean):(statement)"
   ]
  },
  {
   "cell_type": "code",
   "execution_count": 34,
   "id": "7d94d8f8",
   "metadata": {},
   "outputs": [
    {
     "name": "stdout",
     "output_type": "stream",
     "text": [
      "yes\n",
      "other yes\n"
     ]
    }
   ],
   "source": [
    "if 1<2:\n",
    "    print('yes')\n",
    "    print('other yes')"
   ]
  },
  {
   "cell_type": "code",
   "execution_count": 7,
   "id": "723b0d85",
   "metadata": {},
   "outputs": [],
   "source": [
    "x=0\n",
    "y=5"
   ]
  },
  {
   "cell_type": "code",
   "execution_count": 28,
   "id": "f9778727",
   "metadata": {},
   "outputs": [
    {
     "name": "stdout",
     "output_type": "stream",
     "text": [
      "y\n"
     ]
    }
   ],
   "source": [
    "if x<y:print('y')"
   ]
  },
  {
   "cell_type": "code",
   "execution_count": 29,
   "id": "36b59d57",
   "metadata": {},
   "outputs": [],
   "source": [
    "if y<x: print('y')"
   ]
  },
  {
   "cell_type": "code",
   "execution_count": 30,
   "id": "f91a1d77",
   "metadata": {},
   "outputs": [],
   "source": [
    "if x: print('y')"
   ]
  },
  {
   "cell_type": "code",
   "execution_count": 31,
   "id": "432ee4af",
   "metadata": {},
   "outputs": [
    {
     "name": "stdout",
     "output_type": "stream",
     "text": [
      "y\n"
     ]
    }
   ],
   "source": [
    "if y: print('y')\n",
    "    \n"
   ]
  },
  {
   "cell_type": "code",
   "execution_count": 32,
   "id": "9e3de7d3",
   "metadata": {},
   "outputs": [
    {
     "name": "stdout",
     "output_type": "stream",
     "text": [
      "y\n"
     ]
    }
   ],
   "source": [
    "if 'aul' in 'grault': print('y')\n",
    " "
   ]
  },
  {
   "cell_type": "code",
   "execution_count": 33,
   "id": "4417a69d",
   "metadata": {},
   "outputs": [],
   "source": [
    "   \n",
    "if 'quux' in ['foo','bar','baz']: print('y')"
   ]
  },
  {
   "cell_type": "code",
   "execution_count": 35,
   "id": "20a2e5c3",
   "metadata": {},
   "outputs": [
    {
     "name": "stdout",
     "output_type": "stream",
     "text": [
      "after conditional\n"
     ]
    }
   ],
   "source": [
    "if 'quux' in ['foo','bar','baz']: \n",
    "    print('y')\n",
    "    print('executing')\n",
    "    print('....')\n",
    "    print('done')\n",
    "    \n",
    "print ('after conditional')"
   ]
  },
  {
   "cell_type": "markdown",
   "id": "57fe0748",
   "metadata": {},
   "source": [
    "# Grouping Statement:Indentation and Blocks"
   ]
  },
  {
   "cell_type": "code",
   "execution_count": 40,
   "id": "b6f1bbab",
   "metadata": {},
   "outputs": [
    {
     "name": "stdout",
     "output_type": "stream",
     "text": [
      "outer condition is true\n",
      "between inner condition\n",
      "inner condition 2\n",
      "end of outer condition\n",
      "after outer condition\n"
     ]
    }
   ],
   "source": [
    "if 'foo' in ['foo','bar','baz']: \n",
    "    print('outer condition is true')\n",
    "    \n",
    "    if 10>20:\n",
    "        print('inner condition 1')\n",
    "    print('between inner condition')\n",
    "    \n",
    "    if 10<20:\n",
    "        print('inner condition 2')\n",
    "        print('end of outer condition')\n",
    "        \n",
    "print(\"after outer condition\")"
   ]
  },
  {
   "cell_type": "code",
   "execution_count": 43,
   "id": "ff481458",
   "metadata": {},
   "outputs": [
    {
     "name": "stdout",
     "output_type": "stream",
     "text": [
      "first suite\n",
      "x is small\n"
     ]
    }
   ],
   "source": [
    "x = 20\n",
    "if x<50:\n",
    "    print('first suite')\n",
    "    print('x is small')\n",
    "else:\n",
    "    print('(second suite)')\n",
    "    print('x is large')"
   ]
  },
  {
   "cell_type": "code",
   "execution_count": 44,
   "id": "5a9bb3ea",
   "metadata": {},
   "outputs": [
    {
     "name": "stdout",
     "output_type": "stream",
     "text": [
      "(second suite)\n",
      "x is large\n"
     ]
    }
   ],
   "source": [
    "x = 100\n",
    "if x<50:\n",
    "    print('first suite')\n",
    "    print('x is small')\n",
    "else:\n",
    "    print('(second suite)')\n",
    "    print('x is large')"
   ]
  },
  {
   "cell_type": "code",
   "execution_count": 53,
   "id": "915cdce4",
   "metadata": {},
   "outputs": [
    {
     "name": "stdout",
     "output_type": "stream",
     "text": [
      "uang tidak cukup\n"
     ]
    }
   ],
   "source": [
    "hargaBuku = 20000\n",
    "hargaMajalah = 5000\n",
    "uang = 2000\n",
    "\n",
    "if uang> hargaBuku:\n",
    "    print ('beli buku')\n",
    "else:\n",
    "    print('uang tidak cukup')"
   ]
  },
  {
   "cell_type": "code",
   "execution_count": 55,
   "id": "db466abf",
   "metadata": {},
   "outputs": [
    {
     "name": "stdout",
     "output_type": "stream",
     "text": [
      "beli majalah\n"
     ]
    }
   ],
   "source": [
    "hargaBuku = 20000\n",
    "hargaMajalah = 5000\n",
    "uang = 7000\n",
    "\n",
    "if uang> hargaBuku:\n",
    "    print ('beli buku')\n",
    "elif uang>hargaMajalah:\n",
    "    print('beli majalah')\n",
    "else:\n",
    "    print('uang tidak cukup')"
   ]
  },
  {
   "cell_type": "code",
   "execution_count": 59,
   "id": "8952057c",
   "metadata": {},
   "outputs": [
    {
     "name": "stdout",
     "output_type": "stream",
     "text": [
      "Hello Arnold\n"
     ]
    }
   ],
   "source": [
    "name = 'Arnold'\n",
    "if name=='Fred':\n",
    "    print('Hello Fred')\n",
    "elif name == 'Xander':\n",
    "    print('Hello Xander')\n",
    "elif name == 'Hactiv8':\n",
    "    print('Hello Hactiv8')\n",
    "elif name == 'Arnold':\n",
    "    print('Hello Arnold')\n",
    "else:\n",
    "    print('I dont know who you are')"
   ]
  },
  {
   "cell_type": "markdown",
   "id": "19e3520f",
   "metadata": {},
   "source": [
    "# One line If Statement"
   ]
  },
  {
   "cell_type": "code",
   "execution_count": 61,
   "id": "d352db66",
   "metadata": {},
   "outputs": [
    {
     "name": "stdout",
     "output_type": "stream",
     "text": [
      "Hello Fred\n"
     ]
    }
   ],
   "source": [
    "name = 'Fred'\n",
    "if name=='Fred':print('Hello Fred')"
   ]
  },
  {
   "cell_type": "code",
   "execution_count": 62,
   "id": "aede7456",
   "metadata": {},
   "outputs": [
    {
     "name": "stdout",
     "output_type": "stream",
     "text": [
      "Hello Fred\n",
      "hi\n",
      "done\n"
     ]
    }
   ],
   "source": [
    "name = 'Fred'\n",
    "if name=='Fred':print('Hello Fred'); print('hi'); print('done')"
   ]
  },
  {
   "cell_type": "code",
   "execution_count": 68,
   "id": "8c098da3",
   "metadata": {},
   "outputs": [
    {
     "name": "stdout",
     "output_type": "stream",
     "text": [
      "corge\n",
      "aul\n"
     ]
    }
   ],
   "source": [
    "x==3\n",
    "\n",
    "if x==1: print('foo'); print('bar'); print('baz')\n",
    "elif x==2: print('a'); print('z'); print('q')\n",
    "else: print('corge'); print('aul')"
   ]
  },
  {
   "cell_type": "markdown",
   "id": "35b3e6c2",
   "metadata": {},
   "source": [
    "# Condition expression"
   ]
  },
  {
   "cell_type": "code",
   "execution_count": 69,
   "id": "56964fa8",
   "metadata": {},
   "outputs": [
    {
     "name": "stdout",
     "output_type": "stream",
     "text": [
      "Lets go to the beach\n"
     ]
    }
   ],
   "source": [
    "raining = False\n",
    "print(\"Lets go to the\", 'beach' if not raining else 'library')"
   ]
  },
  {
   "cell_type": "code",
   "execution_count": 71,
   "id": "7d6f73a8",
   "metadata": {},
   "outputs": [
    {
     "name": "stdout",
     "output_type": "stream",
     "text": [
      "Lets go to the library\n"
     ]
    }
   ],
   "source": [
    "raining = True\n",
    "print(\"Lets go to the\", 'beach' if not raining else 'library')"
   ]
  },
  {
   "cell_type": "markdown",
   "id": "5f5015c5",
   "metadata": {},
   "source": [
    "fungsi if not(raining)\n",
    "- if not True = False\n",
    "- if not False = true"
   ]
  },
  {
   "cell_type": "code",
   "execution_count": 78,
   "id": "27702d24",
   "metadata": {},
   "outputs": [
    {
     "data": {
      "text/plain": [
       "'teen'"
      ]
     },
     "execution_count": 78,
     "metadata": {},
     "output_type": "execute_result"
    }
   ],
   "source": [
    "age =12\n",
    "s='teen' if age <21 else'adult'\n",
    "s"
   ]
  },
  {
   "cell_type": "code",
   "execution_count": 84,
   "id": "00ab5aad",
   "metadata": {},
   "outputs": [
    {
     "data": {
      "text/plain": [
       "'no'"
      ]
     },
     "execution_count": 84,
     "metadata": {},
     "output_type": "execute_result"
    }
   ],
   "source": [
    "'yes' if ('qux' in ['foo', 'bar', 'baz']) else 'no'\n"
   ]
  },
  {
   "cell_type": "code",
   "execution_count": 85,
   "id": "46d6e09f",
   "metadata": {},
   "outputs": [
    {
     "data": {
      "text/plain": [
       "'yes'"
      ]
     },
     "execution_count": 85,
     "metadata": {},
     "output_type": "execute_result"
    }
   ],
   "source": [
    "'yes' if ('qux' in ['foo', 'bar', 'qux']) else 'no'"
   ]
  },
  {
   "cell_type": "markdown",
   "id": "c798e725",
   "metadata": {},
   "source": [
    "# The Python pass Statement\n",
    "\n"
   ]
  },
  {
   "cell_type": "code",
   "execution_count": 91,
   "id": "b4500d5e",
   "metadata": {},
   "outputs": [
    {
     "name": "stdout",
     "output_type": "stream",
     "text": [
      "foo\n"
     ]
    }
   ],
   "source": [
    "if True: \n",
    "    pass\n",
    "print('foo')"
   ]
  },
  {
   "cell_type": "markdown",
   "id": "75c1eaec",
   "metadata": {},
   "source": [
    "# Python \"while\" Loops"
   ]
  },
  {
   "cell_type": "markdown",
   "id": "9c60c070",
   "metadata": {},
   "source": [
    "while true:\n",
    "    maka terjadi sesuatu"
   ]
  },
  {
   "cell_type": "code",
   "execution_count": 121,
   "id": "055263eb",
   "metadata": {},
   "outputs": [
    {
     "name": "stdout",
     "output_type": "stream",
     "text": [
      "4\n",
      "3\n",
      "2\n",
      "1\n",
      "0\n"
     ]
    }
   ],
   "source": [
    "n = 5\n",
    "while n>0:\n",
    "    n -=1\n",
    "    print (n)"
   ]
  },
  {
   "cell_type": "code",
   "execution_count": 111,
   "id": "84a4d972",
   "metadata": {},
   "outputs": [
    {
     "name": "stdout",
     "output_type": "stream",
     "text": [
      "1\n",
      "2\n",
      "3\n",
      "4\n",
      "5\n"
     ]
    }
   ],
   "source": [
    "i = 1\n",
    "while i<6:\n",
    "    print(i)\n",
    "    i+=1"
   ]
  },
  {
   "cell_type": "markdown",
   "id": "46771ba0",
   "metadata": {},
   "source": [
    "# PY break and continue statmets"
   ]
  },
  {
   "cell_type": "code",
   "execution_count": 134,
   "id": "ea2edd4f",
   "metadata": {},
   "outputs": [
    {
     "name": "stdout",
     "output_type": "stream",
     "text": [
      "4\n",
      "3\n",
      "hitting break\n",
      "Loop ended\n"
     ]
    }
   ],
   "source": [
    "n=5\n",
    "while n>0:\n",
    "    n-=1\n",
    "    if n==2:\n",
    "        print ('hitting break')\n",
    "        break\n",
    "        print ('something')\n",
    "        \n",
    "    print (n)\n",
    "print(\"Loop ended\")\n"
   ]
  },
  {
   "cell_type": "code",
   "execution_count": 123,
   "id": "2000c930",
   "metadata": {},
   "outputs": [
    {
     "name": "stdout",
     "output_type": "stream",
     "text": [
      "4\n",
      "3\n",
      "1\n",
      "0\n",
      "Loop ended\n"
     ]
    }
   ],
   "source": [
    "n=5\n",
    "while n>0:\n",
    "    n-=1\n",
    "    if n==2:\n",
    "        continue\n",
    "    print (n)\n",
    "print(\"Loop ended\")"
   ]
  },
  {
   "cell_type": "markdown",
   "id": "9f5de13c",
   "metadata": {},
   "source": [
    "# the Else Clause"
   ]
  },
  {
   "cell_type": "code",
   "execution_count": 124,
   "id": "40e17290",
   "metadata": {},
   "outputs": [
    {
     "ename": "SyntaxError",
     "evalue": "invalid syntax (<ipython-input-124-16836cf58802>, line 5)",
     "output_type": "error",
     "traceback": [
      "\u001b[1;36m  File \u001b[1;32m\"<ipython-input-124-16836cf58802>\"\u001b[1;36m, line \u001b[1;32m5\u001b[0m\n\u001b[1;33m    maka sesuatu yang lain\u001b[0m\n\u001b[1;37m         ^\u001b[0m\n\u001b[1;31mSyntaxError\u001b[0m\u001b[1;31m:\u001b[0m invalid syntax\n"
     ]
    }
   ],
   "source": [
    "while sesuatu:\n",
    "    maka\n",
    "    \n",
    "else:\n",
    "    maka sesuatu yang lain"
   ]
  },
  {
   "cell_type": "code",
   "execution_count": 131,
   "id": "8176109a",
   "metadata": {},
   "outputs": [
    {
     "name": "stdout",
     "output_type": "stream",
     "text": [
      "4\n",
      "3\n",
      "2\n",
      "1\n",
      "0\n",
      "loop done\n"
     ]
    }
   ],
   "source": [
    "n =5\n",
    "while n>0:\n",
    "    n-=1\n",
    "    print (n)\n",
    "    \n",
    "else:\n",
    "    print ('loop done')"
   ]
  },
  {
   "cell_type": "markdown",
   "id": "d171247f",
   "metadata": {},
   "source": [
    "# Nested while loops"
   ]
  },
  {
   "cell_type": "code",
   "execution_count": 139,
   "id": "73f0b3f7",
   "metadata": {},
   "outputs": [
    {
     "name": "stdout",
     "output_type": "stream",
     "text": [
      "father\n"
     ]
    }
   ],
   "source": [
    "age = 20\n",
    "gender = 'M'\n",
    "if age <18:\n",
    "    if gender =='M':\n",
    "        print ('son')\n",
    "    else:\n",
    "        print ('daugther')\n",
    "elif age >= 18 and age <65:\n",
    "    if gender == 'M':\n",
    "        print('father')\n",
    "    else:\n",
    "        print('mother')\n",
    "else:\n",
    "    if gender =='M':\n",
    "        print('grandpa')\n",
    "    else:\n",
    "        print('grandma')\n",
    "    "
   ]
  },
  {
   "cell_type": "code",
   "execution_count": 140,
   "id": "f64ceba0",
   "metadata": {},
   "outputs": [
    {
     "name": "stdout",
     "output_type": "stream",
     "text": [
      "foo\n",
      "> baz\n",
      "> qux\n",
      "bar\n",
      "> baz\n",
      "> qux\n"
     ]
    }
   ],
   "source": [
    "a =['foo','bar']\n",
    "while len(a):\n",
    "    print(a.pop(0))\n",
    "    \n",
    "    b= ['baz', 'qux']\n",
    "    while len(b):\n",
    "        print ('>',b.pop(0))"
   ]
  },
  {
   "cell_type": "code",
   "execution_count": 141,
   "id": "0014b521",
   "metadata": {},
   "outputs": [],
   "source": [
    "# One-line while loops"
   ]
  },
  {
   "cell_type": "code",
   "execution_count": 143,
   "id": "a3c92600",
   "metadata": {},
   "outputs": [
    {
     "name": "stdout",
     "output_type": "stream",
     "text": [
      "4\n",
      "3\n",
      "2\n",
      "1\n",
      "0\n"
     ]
    }
   ],
   "source": [
    "n=5\n",
    "while n>0: n-=1; print(n)"
   ]
  },
  {
   "cell_type": "markdown",
   "id": "402a4243",
   "metadata": {},
   "source": [
    "# definite iteration"
   ]
  },
  {
   "cell_type": "code",
   "execution_count": 148,
   "id": "72661fb7",
   "metadata": {},
   "outputs": [
    {
     "ename": "SyntaxError",
     "evalue": "invalid syntax (<ipython-input-148-fb4522e4a79b>, line 1)",
     "output_type": "error",
     "traceback": [
      "\u001b[1;36m  File \u001b[1;32m\"<ipython-input-148-fb4522e4a79b>\"\u001b[1;36m, line \u001b[1;32m1\u001b[0m\n\u001b[1;33m    for(i=1;i<=10):\u001b[0m\n\u001b[1;37m         ^\u001b[0m\n\u001b[1;31mSyntaxError\u001b[0m\u001b[1;31m:\u001b[0m invalid syntax\n"
     ]
    }
   ],
   "source": [
    "for(i=1;i<=10):\n",
    "    print(i)\n",
    "\n",
    "    "
   ]
  },
  {
   "cell_type": "markdown",
   "id": "ba03ac83",
   "metadata": {},
   "source": [
    "# pytn for loop"
   ]
  },
  {
   "cell_type": "code",
   "execution_count": 152,
   "id": "ad3427c1",
   "metadata": {},
   "outputs": [
    {
     "name": "stdout",
     "output_type": "stream",
     "text": [
      "foo\n",
      "bar\n",
      "baz\n"
     ]
    }
   ],
   "source": [
    "a = ['foo','bar','baz']\n",
    "\n",
    "for i in a:\n",
    "    print(i)"
   ]
  },
  {
   "cell_type": "code",
   "execution_count": 156,
   "id": "bdc056a4",
   "metadata": {},
   "outputs": [
    {
     "name": "stdout",
     "output_type": "stream",
     "text": [
      "1\n",
      "2\n",
      "3\n"
     ]
    }
   ],
   "source": [
    "d = {'foo':1,'bar':2,'baz':3}\n",
    "for k in d:\n",
    "    print(d[k])"
   ]
  },
  {
   "cell_type": "code",
   "execution_count": 158,
   "id": "c728c559",
   "metadata": {},
   "outputs": [
    {
     "data": {
      "text/plain": [
       "dict_values([1, 2, 3])"
      ]
     },
     "execution_count": 158,
     "metadata": {},
     "output_type": "execute_result"
    }
   ],
   "source": [
    "d.values()"
   ]
  },
  {
   "cell_type": "code",
   "execution_count": 159,
   "id": "5accf022",
   "metadata": {},
   "outputs": [
    {
     "name": "stdout",
     "output_type": "stream",
     "text": [
      "1\n",
      "2\n",
      "3\n"
     ]
    }
   ],
   "source": [
    "for k in d.values():\n",
    "    print(k)"
   ]
  },
  {
   "cell_type": "code",
   "execution_count": 160,
   "id": "ca52c771",
   "metadata": {},
   "outputs": [
    {
     "data": {
      "text/plain": [
       "dict_items([('foo', 1), ('bar', 2), ('baz', 3)])"
      ]
     },
     "execution_count": 160,
     "metadata": {},
     "output_type": "execute_result"
    }
   ],
   "source": [
    "d.items()"
   ]
  },
  {
   "cell_type": "code",
   "execution_count": 161,
   "id": "ef6547c1",
   "metadata": {},
   "outputs": [
    {
     "name": "stdout",
     "output_type": "stream",
     "text": [
      "foo : 1\n",
      "bar : 2\n",
      "baz : 3\n"
     ]
    }
   ],
   "source": [
    "for k,v in d.items():\n",
    "    print(k,\":\",v)"
   ]
  },
  {
   "cell_type": "markdown",
   "id": "1ab4248f",
   "metadata": {},
   "source": [
    "# range () function"
   ]
  },
  {
   "cell_type": "code",
   "execution_count": 162,
   "id": "365f6bb8",
   "metadata": {},
   "outputs": [
    {
     "name": "stdout",
     "output_type": "stream",
     "text": [
      "0\n",
      "1\n",
      "2\n",
      "3\n",
      "4\n"
     ]
    }
   ],
   "source": [
    "for n in (0,1,2,3,4):\n",
    "    print (n)\n"
   ]
  },
  {
   "cell_type": "code",
   "execution_count": 164,
   "id": "0c5603ec",
   "metadata": {},
   "outputs": [
    {
     "data": {
      "text/plain": [
       "range(0, 5)"
      ]
     },
     "execution_count": 164,
     "metadata": {},
     "output_type": "execute_result"
    }
   ],
   "source": [
    "x = range (5)\n",
    "x"
   ]
  },
  {
   "cell_type": "code",
   "execution_count": 165,
   "id": "8017ca87",
   "metadata": {},
   "outputs": [
    {
     "name": "stdout",
     "output_type": "stream",
     "text": [
      "0\n",
      "1\n",
      "2\n",
      "3\n",
      "4\n"
     ]
    }
   ],
   "source": [
    "for n in x:\n",
    "    print (n)"
   ]
  },
  {
   "cell_type": "markdown",
   "id": "0eb1ef9e",
   "metadata": {},
   "source": [
    "# altering for loop behaviour"
   ]
  },
  {
   "cell_type": "code",
   "execution_count": 167,
   "id": "c3076ec8",
   "metadata": {},
   "outputs": [
    {
     "name": "stdout",
     "output_type": "stream",
     "text": [
      "foo\n"
     ]
    }
   ],
   "source": [
    "for i in ['foo','bar','baz','quux']:\n",
    "    if 'b' in i:\n",
    "        break\n",
    "    print (i)"
   ]
  },
  {
   "cell_type": "code",
   "execution_count": 168,
   "id": "57fd13d0",
   "metadata": {},
   "outputs": [
    {
     "name": "stdout",
     "output_type": "stream",
     "text": [
      "foo\n",
      "bar\n",
      "baz\n",
      "quux\n",
      "done\n"
     ]
    }
   ],
   "source": [
    "for i in ['foo','bar','baz','quux']:\n",
    "    print(i)\n",
    "else:\n",
    "    print ('done')"
   ]
  },
  {
   "cell_type": "code",
   "execution_count": 170,
   "id": "2e692c68",
   "metadata": {},
   "outputs": [],
   "source": [
    "for i in ['foo','bar','baz','quux']:\n",
    "    if i in 'bar':\n",
    "        break\n",
    "        print(i)\n",
    "else:\n",
    "    print('done')"
   ]
  },
  {
   "cell_type": "markdown",
   "id": "29b45a6f",
   "metadata": {},
   "source": [
    "## EXAMPLE"
   ]
  },
  {
   "cell_type": "code",
   "execution_count": null,
   "id": "2a9834b7",
   "metadata": {},
   "outputs": [],
   "source": [
    "100F"
   ]
  },
  {
   "cell_type": "code",
   "execution_count": 182,
   "id": "26d708d1",
   "metadata": {},
   "outputs": [
    {
     "name": "stdout",
     "output_type": "stream",
     "text": [
      "ketika temperatur yg ingin dikonversikan, eg. 45F,120C:100C\n",
      "temperaturnya adalah 212 derajat F\n"
     ]
    }
   ],
   "source": [
    "temp = input(\"ketika temperatur yg ingin dikonversikan, eg. 45F,120C:\")\n",
    "degree = int (temp[:-1])\n",
    "i_convertion = temp[-1]\n",
    "\n",
    "if i_convertion ==\"C\":\n",
    "    result = int(round((9*degree)/5+32))\n",
    "    print('temperaturnya adalah', result, 'derajat F')\n",
    "elif i_convertion ==\"F\":\n",
    "    result=int(round((degree - 32)*5/9))\n",
    "    print('temperaturnya adalah', result, 'derajat C')\n",
    "else:\n",
    "    print(\"masukan input yang bener\")\n",
    "    \n",
    "\n",
    "#print (\"temperatur adalah\",result,\"derajat\")"
   ]
  },
  {
   "cell_type": "code",
   "execution_count": 180,
   "id": "57639600",
   "metadata": {},
   "outputs": [
    {
     "name": "stdout",
     "output_type": "stream",
     "text": [
      "ketika karakter:bukan stop\n",
      "bukan stop\n",
      "ketika karakter:slow\n",
      "slow\n",
      "ketika karakter:STOP\n",
      "stop\n"
     ]
    }
   ],
   "source": [
    "while True:\n",
    "    msg = input (\"ketika karakter:\").lower()\n",
    "    print(msg)\n",
    "    if msg == \"stop\":\n",
    "        break"
   ]
  },
  {
   "cell_type": "code",
   "execution_count": null,
   "id": "b6a174c7",
   "metadata": {
    "collapsed": true
   },
   "outputs": [],
   "source": []
  }
 ],
 "metadata": {
  "kernelspec": {
   "display_name": "Python 3",
   "language": "python",
   "name": "python3"
  },
  "language_info": {
   "codemirror_mode": {
    "name": "ipython",
    "version": 3
   },
   "file_extension": ".py",
   "mimetype": "text/x-python",
   "name": "python",
   "nbconvert_exporter": "python",
   "pygments_lexer": "ipython3",
   "version": "3.8.8"
  }
 },
 "nbformat": 4,
 "nbformat_minor": 5
}
